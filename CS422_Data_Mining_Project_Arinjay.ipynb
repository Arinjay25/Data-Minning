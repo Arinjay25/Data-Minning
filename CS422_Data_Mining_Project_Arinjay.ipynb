{
  "nbformat": 4,
  "nbformat_minor": 0,
  "metadata": {
    "colab": {
      "name": "CS422_Data_Mining_Project_Arinjay.ipynb",
      "provenance": []
    },
    "kernelspec": {
      "name": "python3",
      "display_name": "Python 3"
    },
    "language_info": {
      "name": "python"
    }
  },
  "cells": [
    {
      "cell_type": "markdown",
      "metadata": {
        "id": "xJPsxvMODFR-"
      },
      "source": [
        "#**CS 422 Project Report - Arinjay Jain**"
      ]
    },
    {
      "cell_type": "markdown",
      "metadata": {
        "id": "E_B5J7cbDD7r"
      },
      "source": [
        "#Abstract\n",
        "In this project we are going to see what are steps need to take to build a data science project from gathering data to model deployment and how we can share the model with other teams or person so they can use the already built model on unseen datasets.\n",
        "\n",
        "As in results, we build a pipeline, using the Machine Learning classification model. We will create an **ONNX** file using the *SKlearn ONNX* package. Then deployed and run on an actual data set to produce results."
      ]
    },
    {
      "cell_type": "markdown",
      "metadata": {
        "id": "zi7xCouAPbKZ"
      },
      "source": [
        "#Overview\n",
        "Problem Statement: We have given sampled dataset and our objective is to build a model and ONNX file for deployment. \n",
        "\n",
        "Given a dataset need to build an efficient model and onnx file using the pipeline. The data is processed and imputed with the mean of the individual columns. Then Random Forest classifier model is chosen for this given dataset. The output of the project will be a .onnx file."
      ]
    },
    {
      "cell_type": "markdown",
      "metadata": {
        "id": "ZKEJIK1C9ij1"
      },
      "source": [
        "Importing Data in Google Colab"
      ]
    },
    {
      "cell_type": "code",
      "metadata": {
        "colab": {
          "resources": {
            "http://localhost:8080/nbextensions/google.colab/files.js": {
              "data": "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",
              "ok": true,
              "headers": [
                [
                  "content-type",
                  "application/javascript"
                ]
              ],
              "status": 200,
              "status_text": ""
            }
          },
          "base_uri": "https://localhost:8080/",
          "height": 72
        },
        "id": "k2joT8di9Yq1",
        "outputId": "988c9158-823a-487c-eace-ae414994576a"
      },
      "source": [
        "from google.colab import files\n",
        "files.upload()"
      ],
      "execution_count": null,
      "outputs": [
        {
          "output_type": "display_data",
          "data": {
            "text/html": [
              "\n",
              "     <input type=\"file\" id=\"files-21ea778e-67e0-4dc2-bcb5-1b3534c9e6e7\" name=\"files[]\" multiple disabled\n",
              "        style=\"border:none\" />\n",
              "     <output id=\"result-21ea778e-67e0-4dc2-bcb5-1b3534c9e6e7\">\n",
              "      Upload widget is only available when the cell has been executed in the\n",
              "      current browser session. Please rerun this cell to enable.\n",
              "      </output>\n",
              "      <script src=\"/nbextensions/google.colab/files.js\"></script> "
            ],
            "text/plain": [
              "<IPython.core.display.HTML object>"
            ]
          },
          "metadata": {
            "tags": []
          }
        },
        {
          "output_type": "stream",
          "text": [
            "Saving data_public.csv.gz to data_public.csv.gz\n"
          ],
          "name": "stdout"
        }
      ]
    },
    {
      "cell_type": "code",
      "metadata": {
        "colab": {
          "base_uri": "https://localhost:8080/"
        },
        "id": "oVL4RTjCr1UL",
        "outputId": "04e7826d-bff2-4abb-93ea-ea62d5f55978"
      },
      "source": [
        "pip install skl2onnx"
      ],
      "execution_count": 1,
      "outputs": [
        {
          "output_type": "stream",
          "text": [
            "Collecting skl2onnx\n",
            "\u001b[?25l  Downloading https://files.pythonhosted.org/packages/2e/2e/efe7874c6b92ce4dd262b58a2860e9bf50097c68588114a542b29affca46/skl2onnx-1.8.0-py2.py3-none-any.whl (230kB)\n",
            "\u001b[K     |████████████████████████████████| 235kB 5.8MB/s \n",
            "\u001b[?25hRequirement already satisfied: numpy>=1.15 in /usr/local/lib/python3.7/dist-packages (from skl2onnx) (1.19.5)\n",
            "Requirement already satisfied: six in /usr/local/lib/python3.7/dist-packages (from skl2onnx) (1.15.0)\n",
            "Requirement already satisfied: protobuf in /usr/local/lib/python3.7/dist-packages (from skl2onnx) (3.12.4)\n",
            "Collecting onnxconverter-common<1.9,>=1.6.1\n",
            "\u001b[?25l  Downloading https://files.pythonhosted.org/packages/42/f5/82c29029a643dd4de8e0374fe2d5831f50ca58623dd1ee41e0b8df8a7d71/onnxconverter_common-1.8.1-py2.py3-none-any.whl (77kB)\n",
            "\u001b[K     |████████████████████████████████| 81kB 4.1MB/s \n",
            "\u001b[?25hRequirement already satisfied: scipy>=1.0 in /usr/local/lib/python3.7/dist-packages (from skl2onnx) (1.4.1)\n",
            "Collecting onnx>=1.2.1\n",
            "\u001b[?25l  Downloading https://files.pythonhosted.org/packages/3f/9b/54c950d3256e27f970a83cd0504efb183a24312702deed0179453316dbd0/onnx-1.9.0-cp37-cp37m-manylinux2010_x86_64.whl (12.2MB)\n",
            "\u001b[K     |████████████████████████████████| 12.2MB 309kB/s \n",
            "\u001b[?25hRequirement already satisfied: scikit-learn>=0.19 in /usr/local/lib/python3.7/dist-packages (from skl2onnx) (0.22.2.post1)\n",
            "Requirement already satisfied: setuptools in /usr/local/lib/python3.7/dist-packages (from protobuf->skl2onnx) (56.0.0)\n",
            "Requirement already satisfied: typing-extensions>=3.6.2.1 in /usr/local/lib/python3.7/dist-packages (from onnx>=1.2.1->skl2onnx) (3.7.4.3)\n",
            "Requirement already satisfied: joblib>=0.11 in /usr/local/lib/python3.7/dist-packages (from scikit-learn>=0.19->skl2onnx) (1.0.1)\n",
            "Installing collected packages: onnx, onnxconverter-common, skl2onnx\n",
            "Successfully installed onnx-1.9.0 onnxconverter-common-1.8.1 skl2onnx-1.8.0\n"
          ],
          "name": "stdout"
        }
      ]
    },
    {
      "cell_type": "code",
      "metadata": {
        "colab": {
          "base_uri": "https://localhost:8080/"
        },
        "id": "vrLctl88_YfN",
        "outputId": "466b41c7-f491-4a1a-b4f0-8b0ad1f4fdd0"
      },
      "source": [
        "!pip install onnxruntime"
      ],
      "execution_count": 2,
      "outputs": [
        {
          "output_type": "stream",
          "text": [
            "Collecting onnxruntime\n",
            "\u001b[?25l  Downloading https://files.pythonhosted.org/packages/0c/f0/666d6e3ceaa276a54e728f9972732e058544cbb6a3e1a778a8d6f87132c1/onnxruntime-1.7.0-cp37-cp37m-manylinux2014_x86_64.whl (4.1MB)\n",
            "\u001b[K     |████████████████████████████████| 4.1MB 3.4MB/s \n",
            "\u001b[?25hRequirement already satisfied: numpy>=1.16.6 in /usr/local/lib/python3.7/dist-packages (from onnxruntime) (1.19.5)\n",
            "Requirement already satisfied: protobuf in /usr/local/lib/python3.7/dist-packages (from onnxruntime) (3.12.4)\n",
            "Requirement already satisfied: six>=1.9 in /usr/local/lib/python3.7/dist-packages (from protobuf->onnxruntime) (1.15.0)\n",
            "Requirement already satisfied: setuptools in /usr/local/lib/python3.7/dist-packages (from protobuf->onnxruntime) (56.0.0)\n",
            "Installing collected packages: onnxruntime\n",
            "Successfully installed onnxruntime-1.7.0\n"
          ],
          "name": "stdout"
        }
      ]
    },
    {
      "cell_type": "code",
      "metadata": {
        "id": "5MWIoj7nrwET"
      },
      "source": [
        "import os\n",
        "\n",
        "import numpy as np\n",
        "import pandas as pd\n",
        "\n",
        "import matplotlib.pyplot as plt\n",
        "%matplotlib inline\n",
        "\n",
        "from sklearn.impute import SimpleImputer\n",
        "from sklearn.preprocessing import StandardScaler\n",
        "from sklearn.model_selection import train_test_split\n",
        "\n",
        "from sklearn.ensemble import RandomForestClassifier\n",
        "\n",
        "from sklearn.compose import ColumnTransformer\n",
        "from sklearn.pipeline import Pipeline\n",
        "\n",
        "from sklearn.feature_selection import SelectFromModel\n",
        "from sklearn.svm import LinearSVC\n",
        "\n",
        "from sklearn.model_selection import StratifiedShuffleSplit\n",
        "from sklearn import metrics\n",
        "\n",
        "from skl2onnx.common.data_types import FloatTensorType\n",
        "from skl2onnx import convert_sklearn\n",
        "\n",
        "import onnxruntime as rt\n",
        "\n",
        "from onnx.tools.net_drawer import GetPydotGraph, GetOpNodeProducer\n",
        "\n",
        "import graphviz"
      ],
      "execution_count": 3,
      "outputs": []
    },
    {
      "cell_type": "code",
      "metadata": {
        "colab": {
          "base_uri": "https://localhost:8080/"
        },
        "id": "y0j-PtCqkP_F",
        "outputId": "dd119fbd-9225-4eb2-e71a-bfc632c015e3"
      },
      "source": [
        "from google.colab import drive\n",
        "drive.mount('/content/drive')"
      ],
      "execution_count": 4,
      "outputs": [
        {
          "output_type": "stream",
          "text": [
            "Mounted at /content/drive\n"
          ],
          "name": "stdout"
        }
      ]
    },
    {
      "cell_type": "code",
      "metadata": {
        "id": "ZjEbueGgsIPe"
      },
      "source": [
        "#data set\n",
        "data = pd.read_csv('/content/drive/MyDrive/Spring Data Mining 422/Project/data_public.csv.gz')"
      ],
      "execution_count": 5,
      "outputs": []
    },
    {
      "cell_type": "code",
      "metadata": {
        "colab": {
          "base_uri": "https://localhost:8080/",
          "height": 173
        },
        "id": "8wEAt5YmCrJX",
        "outputId": "c3e7c04e-69f7-4033-da21-563d6b992b96"
      },
      "source": [
        "data.head(4)"
      ],
      "execution_count": 6,
      "outputs": [
        {
          "output_type": "execute_result",
          "data": {
            "text/html": [
              "<div>\n",
              "<style scoped>\n",
              "    .dataframe tbody tr th:only-of-type {\n",
              "        vertical-align: middle;\n",
              "    }\n",
              "\n",
              "    .dataframe tbody tr th {\n",
              "        vertical-align: top;\n",
              "    }\n",
              "\n",
              "    .dataframe thead th {\n",
              "        text-align: right;\n",
              "    }\n",
              "</style>\n",
              "<table border=\"1\" class=\"dataframe\">\n",
              "  <thead>\n",
              "    <tr style=\"text-align: right;\">\n",
              "      <th></th>\n",
              "      <th>A</th>\n",
              "      <th>B</th>\n",
              "      <th>C</th>\n",
              "      <th>D</th>\n",
              "      <th>E</th>\n",
              "      <th>F</th>\n",
              "      <th>G</th>\n",
              "      <th>H</th>\n",
              "      <th>I</th>\n",
              "      <th>J</th>\n",
              "      <th>K</th>\n",
              "      <th>L</th>\n",
              "      <th>M</th>\n",
              "      <th>N</th>\n",
              "      <th>O</th>\n",
              "      <th>Class</th>\n",
              "    </tr>\n",
              "  </thead>\n",
              "  <tbody>\n",
              "    <tr>\n",
              "      <th>0</th>\n",
              "      <td>231.420023</td>\n",
              "      <td>-12.210984</td>\n",
              "      <td>217.624839</td>\n",
              "      <td>-15.611916</td>\n",
              "      <td>140.047185</td>\n",
              "      <td>76.904999</td>\n",
              "      <td>131.591871</td>\n",
              "      <td>198.160805</td>\n",
              "      <td>82.873279</td>\n",
              "      <td>127.350084</td>\n",
              "      <td>224.592926</td>\n",
              "      <td>-5.992983</td>\n",
              "      <td>-14.689648</td>\n",
              "      <td>143.072058</td>\n",
              "      <td>153.439659</td>\n",
              "      <td>2</td>\n",
              "    </tr>\n",
              "    <tr>\n",
              "      <th>1</th>\n",
              "      <td>-38.019270</td>\n",
              "      <td>-14.195695</td>\n",
              "      <td>9.583547</td>\n",
              "      <td>22.293822</td>\n",
              "      <td>-25.578283</td>\n",
              "      <td>-18.373955</td>\n",
              "      <td>-0.094457</td>\n",
              "      <td>-33.711852</td>\n",
              "      <td>-8.356041</td>\n",
              "      <td>23.792402</td>\n",
              "      <td>4.199023</td>\n",
              "      <td>2.809159</td>\n",
              "      <td>-59.330681</td>\n",
              "      <td>-11.685950</td>\n",
              "      <td>1.317104</td>\n",
              "      <td>3</td>\n",
              "    </tr>\n",
              "    <tr>\n",
              "      <th>2</th>\n",
              "      <td>-39.197085</td>\n",
              "      <td>-20.418850</td>\n",
              "      <td>21.023083</td>\n",
              "      <td>19.790280</td>\n",
              "      <td>-25.902587</td>\n",
              "      <td>-19.189004</td>\n",
              "      <td>-2.953836</td>\n",
              "      <td>-25.299219</td>\n",
              "      <td>-6.612401</td>\n",
              "      <td>26.285392</td>\n",
              "      <td>5.911292</td>\n",
              "      <td>6.191587</td>\n",
              "      <td>-56.924996</td>\n",
              "      <td>-4.675187</td>\n",
              "      <td>-1.027830</td>\n",
              "      <td>2</td>\n",
              "    </tr>\n",
              "    <tr>\n",
              "      <th>3</th>\n",
              "      <td>221.630408</td>\n",
              "      <td>-5.785352</td>\n",
              "      <td>216.725322</td>\n",
              "      <td>-9.900781</td>\n",
              "      <td>126.795177</td>\n",
              "      <td>85.122288</td>\n",
              "      <td>108.857593</td>\n",
              "      <td>197.640135</td>\n",
              "      <td>82.560019</td>\n",
              "      <td>157.105143</td>\n",
              "      <td>212.989231</td>\n",
              "      <td>-3.621070</td>\n",
              "      <td>-15.469156</td>\n",
              "      <td>135.265859</td>\n",
              "      <td>149.212489</td>\n",
              "      <td>2</td>\n",
              "    </tr>\n",
              "  </tbody>\n",
              "</table>\n",
              "</div>"
            ],
            "text/plain": [
              "            A          B           C  ...           N           O  Class\n",
              "0  231.420023 -12.210984  217.624839  ...  143.072058  153.439659      2\n",
              "1  -38.019270 -14.195695    9.583547  ...  -11.685950    1.317104      3\n",
              "2  -39.197085 -20.418850   21.023083  ...   -4.675187   -1.027830      2\n",
              "3  221.630408  -5.785352  216.725322  ...  135.265859  149.212489      2\n",
              "\n",
              "[4 rows x 16 columns]"
            ]
          },
          "metadata": {
            "tags": []
          },
          "execution_count": 6
        }
      ]
    },
    {
      "cell_type": "markdown",
      "metadata": {
        "id": "PQtClfkxa-u4"
      },
      "source": [
        "# Data Processing and Analysis\n",
        "\n",
        " "
      ]
    },
    {
      "cell_type": "markdown",
      "metadata": {
        "id": "vzm11EkAbJhV"
      },
      "source": [
        "####Check missing value and cleaning data"
      ]
    },
    {
      "cell_type": "code",
      "metadata": {
        "colab": {
          "base_uri": "https://localhost:8080/"
        },
        "id": "vNhlqWMhCxMQ",
        "outputId": "03a9071d-e93c-407a-b9da-f5b21b9b46dc"
      },
      "source": [
        "data.isna().sum()"
      ],
      "execution_count": 7,
      "outputs": [
        {
          "output_type": "execute_result",
          "data": {
            "text/plain": [
              "A        0\n",
              "B        0\n",
              "C        0\n",
              "D        0\n",
              "E        0\n",
              "F        0\n",
              "G        0\n",
              "H        0\n",
              "I        0\n",
              "J        0\n",
              "K        0\n",
              "L        0\n",
              "M        0\n",
              "N        0\n",
              "O        0\n",
              "Class    0\n",
              "dtype: int64"
            ]
          },
          "metadata": {
            "tags": []
          },
          "execution_count": 7
        }
      ]
    },
    {
      "cell_type": "code",
      "metadata": {
        "colab": {
          "base_uri": "https://localhost:8080/"
        },
        "id": "LcNIpLQ9bZWT",
        "outputId": "75321862-50f8-4515-fe2d-6be02e8c9720"
      },
      "source": [
        "data.dtypes\n"
      ],
      "execution_count": 8,
      "outputs": [
        {
          "output_type": "execute_result",
          "data": {
            "text/plain": [
              "A        float64\n",
              "B        float64\n",
              "C        float64\n",
              "D        float64\n",
              "E        float64\n",
              "F        float64\n",
              "G        float64\n",
              "H        float64\n",
              "I        float64\n",
              "J        float64\n",
              "K        float64\n",
              "L        float64\n",
              "M        float64\n",
              "N        float64\n",
              "O        float64\n",
              "Class      int64\n",
              "dtype: object"
            ]
          },
          "metadata": {
            "tags": []
          },
          "execution_count": 8
        }
      ]
    },
    {
      "cell_type": "markdown",
      "metadata": {
        "id": "4hgA79_Ob72h"
      },
      "source": [
        "So we do not have any missing and corrupted data "
      ]
    },
    {
      "cell_type": "code",
      "metadata": {
        "colab": {
          "base_uri": "https://localhost:8080/",
          "height": 314
        },
        "id": "SX3oC0vxbjFE",
        "outputId": "acf31ef3-18c6-4dea-b808-59adf5ed2932"
      },
      "source": [
        "#summary of data\n",
        "data.describe()"
      ],
      "execution_count": 9,
      "outputs": [
        {
          "output_type": "execute_result",
          "data": {
            "text/html": [
              "<div>\n",
              "<style scoped>\n",
              "    .dataframe tbody tr th:only-of-type {\n",
              "        vertical-align: middle;\n",
              "    }\n",
              "\n",
              "    .dataframe tbody tr th {\n",
              "        vertical-align: top;\n",
              "    }\n",
              "\n",
              "    .dataframe thead th {\n",
              "        text-align: right;\n",
              "    }\n",
              "</style>\n",
              "<table border=\"1\" class=\"dataframe\">\n",
              "  <thead>\n",
              "    <tr style=\"text-align: right;\">\n",
              "      <th></th>\n",
              "      <th>A</th>\n",
              "      <th>B</th>\n",
              "      <th>C</th>\n",
              "      <th>D</th>\n",
              "      <th>E</th>\n",
              "      <th>F</th>\n",
              "      <th>G</th>\n",
              "      <th>H</th>\n",
              "      <th>I</th>\n",
              "      <th>J</th>\n",
              "      <th>K</th>\n",
              "      <th>L</th>\n",
              "      <th>M</th>\n",
              "      <th>N</th>\n",
              "      <th>O</th>\n",
              "      <th>Class</th>\n",
              "    </tr>\n",
              "  </thead>\n",
              "  <tbody>\n",
              "    <tr>\n",
              "      <th>count</th>\n",
              "      <td>1.200000e+06</td>\n",
              "      <td>1.200000e+06</td>\n",
              "      <td>1.200000e+06</td>\n",
              "      <td>1.200000e+06</td>\n",
              "      <td>1.200000e+06</td>\n",
              "      <td>1.200000e+06</td>\n",
              "      <td>1.200000e+06</td>\n",
              "      <td>1.200000e+06</td>\n",
              "      <td>1.200000e+06</td>\n",
              "      <td>1.200000e+06</td>\n",
              "      <td>1.200000e+06</td>\n",
              "      <td>1.200000e+06</td>\n",
              "      <td>1.200000e+06</td>\n",
              "      <td>1.200000e+06</td>\n",
              "      <td>1.200000e+06</td>\n",
              "      <td>1.200000e+06</td>\n",
              "    </tr>\n",
              "    <tr>\n",
              "      <th>mean</th>\n",
              "      <td>5.068656e+01</td>\n",
              "      <td>-1.883373e+01</td>\n",
              "      <td>7.162152e+01</td>\n",
              "      <td>-1.355120e+01</td>\n",
              "      <td>2.944177e+01</td>\n",
              "      <td>-6.185189e+00</td>\n",
              "      <td>3.174186e+01</td>\n",
              "      <td>5.112504e+01</td>\n",
              "      <td>3.300077e+01</td>\n",
              "      <td>4.092546e+01</td>\n",
              "      <td>7.938340e+01</td>\n",
              "      <td>-6.746540e+00</td>\n",
              "      <td>-4.232290e+01</td>\n",
              "      <td>4.949012e+01</td>\n",
              "      <td>5.980333e+01</td>\n",
              "      <td>2.167323e+00</td>\n",
              "    </tr>\n",
              "    <tr>\n",
              "      <th>std</th>\n",
              "      <td>1.292492e+02</td>\n",
              "      <td>1.446355e+01</td>\n",
              "      <td>1.052808e+02</td>\n",
              "      <td>4.689774e+01</td>\n",
              "      <td>7.282278e+01</td>\n",
              "      <td>7.309100e+01</td>\n",
              "      <td>6.660329e+01</td>\n",
              "      <td>1.034053e+02</td>\n",
              "      <td>4.217119e+01</td>\n",
              "      <td>7.694386e+01</td>\n",
              "      <td>9.484003e+01</td>\n",
              "      <td>1.557490e+01</td>\n",
              "      <td>1.791142e+01</td>\n",
              "      <td>6.728231e+01</td>\n",
              "      <td>6.677712e+01</td>\n",
              "      <td>6.874930e-01</td>\n",
              "    </tr>\n",
              "    <tr>\n",
              "      <th>min</th>\n",
              "      <td>-7.308940e+01</td>\n",
              "      <td>-8.322357e+01</td>\n",
              "      <td>-5.972853e+01</td>\n",
              "      <td>-1.375818e+02</td>\n",
              "      <td>-3.829826e+01</td>\n",
              "      <td>-1.485917e+02</td>\n",
              "      <td>-6.654137e+01</td>\n",
              "      <td>-4.246089e+01</td>\n",
              "      <td>-1.818542e+01</td>\n",
              "      <td>-1.123844e+02</td>\n",
              "      <td>-1.415233e+01</td>\n",
              "      <td>-6.271828e+01</td>\n",
              "      <td>-8.144988e+01</td>\n",
              "      <td>-2.057979e+01</td>\n",
              "      <td>-1.283059e+01</td>\n",
              "      <td>1.000000e+00</td>\n",
              "    </tr>\n",
              "    <tr>\n",
              "      <th>25%</th>\n",
              "      <td>-3.793679e+01</td>\n",
              "      <td>-1.786669e+01</td>\n",
              "      <td>7.553164e+00</td>\n",
              "      <td>-1.471337e+01</td>\n",
              "      <td>-2.436286e+01</td>\n",
              "      <td>-3.072492e+01</td>\n",
              "      <td>-3.484185e+00</td>\n",
              "      <td>-2.629661e+01</td>\n",
              "      <td>-7.594991e+00</td>\n",
              "      <td>2.108044e+01</td>\n",
              "      <td>2.419273e+00</td>\n",
              "      <td>-8.875128e+00</td>\n",
              "      <td>-5.567326e+01</td>\n",
              "      <td>-7.131906e+00</td>\n",
              "      <td>1.628438e-01</td>\n",
              "      <td>2.000000e+00</td>\n",
              "    </tr>\n",
              "    <tr>\n",
              "      <th>50%</th>\n",
              "      <td>-3.197847e+01</td>\n",
              "      <td>-1.369876e+01</td>\n",
              "      <td>1.348796e+01</td>\n",
              "      <td>-8.004308e+00</td>\n",
              "      <td>-1.897058e+01</td>\n",
              "      <td>-2.475391e+01</td>\n",
              "      <td>1.491431e+00</td>\n",
              "      <td>-1.817028e+01</td>\n",
              "      <td>3.769369e+01</td>\n",
              "      <td>2.717432e+01</td>\n",
              "      <td>2.652955e+01</td>\n",
              "      <td>-1.079123e+00</td>\n",
              "      <td>-5.297585e+01</td>\n",
              "      <td>1.462293e+01</td>\n",
              "      <td>4.689262e+01</td>\n",
              "      <td>2.000000e+00</td>\n",
              "    </tr>\n",
              "    <tr>\n",
              "      <th>75%</th>\n",
              "      <td>2.280020e+02</td>\n",
              "      <td>-1.055606e+01</td>\n",
              "      <td>2.123439e+02</td>\n",
              "      <td>1.955806e+01</td>\n",
              "      <td>1.289018e+02</td>\n",
              "      <td>7.834417e+01</td>\n",
              "      <td>1.151840e+02</td>\n",
              "      <td>1.915891e+02</td>\n",
              "      <td>7.984842e+01</td>\n",
              "      <td>1.253846e+02</td>\n",
              "      <td>2.046458e+02</td>\n",
              "      <td>3.334451e+00</td>\n",
              "      <td>-2.208504e+01</td>\n",
              "      <td>1.363603e+02</td>\n",
              "      <td>1.451293e+02</td>\n",
              "      <td>3.000000e+00</td>\n",
              "    </tr>\n",
              "    <tr>\n",
              "      <th>max</th>\n",
              "      <td>2.687738e+02</td>\n",
              "      <td>4.460108e+00</td>\n",
              "      <td>2.561698e+02</td>\n",
              "      <td>3.263799e+01</td>\n",
              "      <td>1.579843e+02</td>\n",
              "      <td>1.229186e+02</td>\n",
              "      <td>1.660534e+02</td>\n",
              "      <td>2.329496e+02</td>\n",
              "      <td>1.112970e+02</td>\n",
              "      <td>1.755397e+02</td>\n",
              "      <td>2.598003e+02</td>\n",
              "      <td>2.159496e+01</td>\n",
              "      <td>1.032828e+01</td>\n",
              "      <td>1.789303e+02</td>\n",
              "      <td>1.807011e+02</td>\n",
              "      <td>3.000000e+00</td>\n",
              "    </tr>\n",
              "  </tbody>\n",
              "</table>\n",
              "</div>"
            ],
            "text/plain": [
              "                  A             B  ...             O         Class\n",
              "count  1.200000e+06  1.200000e+06  ...  1.200000e+06  1.200000e+06\n",
              "mean   5.068656e+01 -1.883373e+01  ...  5.980333e+01  2.167323e+00\n",
              "std    1.292492e+02  1.446355e+01  ...  6.677712e+01  6.874930e-01\n",
              "min   -7.308940e+01 -8.322357e+01  ... -1.283059e+01  1.000000e+00\n",
              "25%   -3.793679e+01 -1.786669e+01  ...  1.628438e-01  2.000000e+00\n",
              "50%   -3.197847e+01 -1.369876e+01  ...  4.689262e+01  2.000000e+00\n",
              "75%    2.280020e+02 -1.055606e+01  ...  1.451293e+02  3.000000e+00\n",
              "max    2.687738e+02  4.460108e+00  ...  1.807011e+02  3.000000e+00\n",
              "\n",
              "[8 rows x 16 columns]"
            ]
          },
          "metadata": {
            "tags": []
          },
          "execution_count": 9
        }
      ]
    },
    {
      "cell_type": "markdown",
      "metadata": {
        "id": "eQF_Na2Eiulu"
      },
      "source": [
        "#### Let's looking into the frequency for each class in the target variable.  "
      ]
    },
    {
      "cell_type": "code",
      "metadata": {
        "colab": {
          "base_uri": "https://localhost:8080/"
        },
        "id": "gXgi8fgih6gg",
        "outputId": "46b8c543-ca16-4bbe-cc86-75efb154eda1"
      },
      "source": [
        "data['Class'].value_counts()"
      ],
      "execution_count": 13,
      "outputs": [
        {
          "output_type": "execute_result",
          "data": {
            "text/plain": [
              "2    599228\n",
              "3    400780\n",
              "1    199992\n",
              "Name: Class, dtype: int64"
            ]
          },
          "metadata": {
            "tags": []
          },
          "execution_count": 13
        }
      ]
    },
    {
      "cell_type": "markdown",
      "metadata": {
        "id": "U63d6my7jTlI"
      },
      "source": [
        "### Percentage present of each class in data sets, And we found highly imbalanced classes. We have **50%** of class **2** and **33%** of class **3** and just **16%** of class **1**"
      ]
    },
    {
      "cell_type": "code",
      "metadata": {
        "colab": {
          "base_uri": "https://localhost:8080/"
        },
        "id": "Nlh67XhAiQl2",
        "outputId": "ba919330-1c1a-467a-ef19-5008a7ff40bb"
      },
      "source": [
        "print(data['Class'].value_counts()/data['Class'].value_counts().sum()*100)"
      ],
      "execution_count": 18,
      "outputs": [
        {
          "output_type": "stream",
          "text": [
            "2    49.935667\n",
            "3    33.398333\n",
            "1    16.666000\n",
            "Name: Class, dtype: float64\n"
          ],
          "name": "stdout"
        }
      ]
    },
    {
      "cell_type": "markdown",
      "metadata": {
        "id": "jt0BvmR_hDKB"
      },
      "source": [
        "##Correlation Matrix"
      ]
    },
    {
      "cell_type": "code",
      "metadata": {
        "colab": {
          "base_uri": "https://localhost:8080/",
          "height": 275
        },
        "id": "r0LFCLE8hAwZ",
        "outputId": "03a21861-c765-4231-b914-67aa0d529e2e"
      },
      "source": [
        "plt.matshow(data.corr())\n",
        "plt.show()"
      ],
      "execution_count": 19,
      "outputs": [
        {
          "output_type": "display_data",
          "data": {
            "image/png": "[encoded data removed]",
            "text/plain": [
              "<Figure size 288x288 with 1 Axes>"
            ]
          },
          "metadata": {
            "tags": [],
            "needs_background": "light"
          }
        }
      ]
    },
    {
      "cell_type": "markdown",
      "metadata": {
        "id": "BLza3OraiGHg"
      },
      "source": [
        "####We can see here we do not have very strong correlation between target(class) variable and other feature variables.  \n",
        "\n",
        "So there is no point to drop any feature variables."
      ]
    },
    {
      "cell_type": "code",
      "metadata": {
        "colab": {
          "base_uri": "https://localhost:8080/",
          "height": 559
        },
        "id": "syDs9j_phMCq",
        "outputId": "78252cb3-84b1-490c-c57d-a34fa5a45e37"
      },
      "source": [
        "data.corr('pearson')"
      ],
      "execution_count": 20,
      "outputs": [
        {
          "output_type": "execute_result",
          "data": {
            "text/html": [
              "<div>\n",
              "<style scoped>\n",
              "    .dataframe tbody tr th:only-of-type {\n",
              "        vertical-align: middle;\n",
              "    }\n",
              "\n",
              "    .dataframe tbody tr th {\n",
              "        vertical-align: top;\n",
              "    }\n",
              "\n",
              "    .dataframe thead th {\n",
              "        text-align: right;\n",
              "    }\n",
              "</style>\n",
              "<table border=\"1\" class=\"dataframe\">\n",
              "  <thead>\n",
              "    <tr style=\"text-align: right;\">\n",
              "      <th></th>\n",
              "      <th>A</th>\n",
              "      <th>B</th>\n",
              "      <th>C</th>\n",
              "      <th>D</th>\n",
              "      <th>E</th>\n",
              "      <th>F</th>\n",
              "      <th>G</th>\n",
              "      <th>H</th>\n",
              "      <th>I</th>\n",
              "      <th>J</th>\n",
              "      <th>K</th>\n",
              "      <th>L</th>\n",
              "      <th>M</th>\n",
              "      <th>N</th>\n",
              "      <th>O</th>\n",
              "      <th>Class</th>\n",
              "    </tr>\n",
              "  </thead>\n",
              "  <tbody>\n",
              "    <tr>\n",
              "      <th>A</th>\n",
              "      <td>1.000000</td>\n",
              "      <td>0.455949</td>\n",
              "      <td>0.991999</td>\n",
              "      <td>0.071330</td>\n",
              "      <td>0.990703</td>\n",
              "      <td>0.905353</td>\n",
              "      <td>0.972223</td>\n",
              "      <td>0.988807</td>\n",
              "      <td>0.818399</td>\n",
              "      <td>0.870016</td>\n",
              "      <td>0.968827</td>\n",
              "      <td>0.139619</td>\n",
              "      <td>0.958931</td>\n",
              "      <td>0.953081</td>\n",
              "      <td>0.920322</td>\n",
              "      <td>-0.000620</td>\n",
              "    </tr>\n",
              "    <tr>\n",
              "      <th>B</th>\n",
              "      <td>0.455949</td>\n",
              "      <td>1.000000</td>\n",
              "      <td>0.541742</td>\n",
              "      <td>0.865856</td>\n",
              "      <td>0.352946</td>\n",
              "      <td>0.760708</td>\n",
              "      <td>0.620607</td>\n",
              "      <td>0.339549</td>\n",
              "      <td>-0.098558</td>\n",
              "      <td>0.803246</td>\n",
              "      <td>0.246429</td>\n",
              "      <td>0.854635</td>\n",
              "      <td>0.345030</td>\n",
              "      <td>0.194578</td>\n",
              "      <td>0.098805</td>\n",
              "      <td>0.000138</td>\n",
              "    </tr>\n",
              "    <tr>\n",
              "      <th>C</th>\n",
              "      <td>0.991999</td>\n",
              "      <td>0.541742</td>\n",
              "      <td>1.000000</td>\n",
              "      <td>0.176224</td>\n",
              "      <td>0.971805</td>\n",
              "      <td>0.943482</td>\n",
              "      <td>0.988351</td>\n",
              "      <td>0.968342</td>\n",
              "      <td>0.753474</td>\n",
              "      <td>0.915784</td>\n",
              "      <td>0.937868</td>\n",
              "      <td>0.238723</td>\n",
              "      <td>0.941040</td>\n",
              "      <td>0.916578</td>\n",
              "      <td>0.873800</td>\n",
              "      <td>-0.000686</td>\n",
              "    </tr>\n",
              "    <tr>\n",
              "      <th>D</th>\n",
              "      <td>0.071330</td>\n",
              "      <td>0.865856</td>\n",
              "      <td>0.176224</td>\n",
              "      <td>1.000000</td>\n",
              "      <td>-0.047459</td>\n",
              "      <td>0.477183</td>\n",
              "      <td>0.279248</td>\n",
              "      <td>-0.062451</td>\n",
              "      <td>-0.502643</td>\n",
              "      <td>0.544357</td>\n",
              "      <td>-0.163679</td>\n",
              "      <td>0.949485</td>\n",
              "      <td>-0.042057</td>\n",
              "      <td>-0.217856</td>\n",
              "      <td>-0.316241</td>\n",
              "      <td>0.000150</td>\n",
              "    </tr>\n",
              "    <tr>\n",
              "      <th>E</th>\n",
              "      <td>0.990703</td>\n",
              "      <td>0.352946</td>\n",
              "      <td>0.971805</td>\n",
              "      <td>-0.047459</td>\n",
              "      <td>1.000000</td>\n",
              "      <td>0.849129</td>\n",
              "      <td>0.939705</td>\n",
              "      <td>0.997116</td>\n",
              "      <td>0.879142</td>\n",
              "      <td>0.805749</td>\n",
              "      <td>0.989217</td>\n",
              "      <td>0.026319</td>\n",
              "      <td>0.964769</td>\n",
              "      <td>0.979925</td>\n",
              "      <td>0.958885</td>\n",
              "      <td>-0.000649</td>\n",
              "    </tr>\n",
              "    <tr>\n",
              "      <th>F</th>\n",
              "      <td>0.905353</td>\n",
              "      <td>0.760708</td>\n",
              "      <td>0.943482</td>\n",
              "      <td>0.477183</td>\n",
              "      <td>0.849129</td>\n",
              "      <td>1.000000</td>\n",
              "      <td>0.969055</td>\n",
              "      <td>0.841227</td>\n",
              "      <td>0.508345</td>\n",
              "      <td>0.989868</td>\n",
              "      <td>0.781534</td>\n",
              "      <td>0.518117</td>\n",
              "      <td>0.823551</td>\n",
              "      <td>0.745156</td>\n",
              "      <td>0.675416</td>\n",
              "      <td>-0.000540</td>\n",
              "    </tr>\n",
              "    <tr>\n",
              "      <th>G</th>\n",
              "      <td>0.972223</td>\n",
              "      <td>0.620607</td>\n",
              "      <td>0.988351</td>\n",
              "      <td>0.279248</td>\n",
              "      <td>0.939705</td>\n",
              "      <td>0.969055</td>\n",
              "      <td>1.000000</td>\n",
              "      <td>0.934714</td>\n",
              "      <td>0.678043</td>\n",
              "      <td>0.949429</td>\n",
              "      <td>0.894114</td>\n",
              "      <td>0.335039</td>\n",
              "      <td>0.910385</td>\n",
              "      <td>0.867546</td>\n",
              "      <td>0.815281</td>\n",
              "      <td>-0.000472</td>\n",
              "    </tr>\n",
              "    <tr>\n",
              "      <th>H</th>\n",
              "      <td>0.988807</td>\n",
              "      <td>0.339549</td>\n",
              "      <td>0.968342</td>\n",
              "      <td>-0.062451</td>\n",
              "      <td>0.997116</td>\n",
              "      <td>0.841227</td>\n",
              "      <td>0.934714</td>\n",
              "      <td>1.000000</td>\n",
              "      <td>0.886017</td>\n",
              "      <td>0.796856</td>\n",
              "      <td>0.990875</td>\n",
              "      <td>0.012005</td>\n",
              "      <td>0.964627</td>\n",
              "      <td>0.982403</td>\n",
              "      <td>0.962873</td>\n",
              "      <td>-0.000670</td>\n",
              "    </tr>\n",
              "    <tr>\n",
              "      <th>I</th>\n",
              "      <td>0.818399</td>\n",
              "      <td>-0.098558</td>\n",
              "      <td>0.753474</td>\n",
              "      <td>-0.502643</td>\n",
              "      <td>0.879142</td>\n",
              "      <td>0.508345</td>\n",
              "      <td>0.678043</td>\n",
              "      <td>0.886017</td>\n",
              "      <td>1.000000</td>\n",
              "      <td>0.439881</td>\n",
              "      <td>0.926217</td>\n",
              "      <td>-0.418110</td>\n",
              "      <td>0.848801</td>\n",
              "      <td>0.943365</td>\n",
              "      <td>0.970965</td>\n",
              "      <td>-0.000766</td>\n",
              "    </tr>\n",
              "    <tr>\n",
              "      <th>J</th>\n",
              "      <td>0.870016</td>\n",
              "      <td>0.803246</td>\n",
              "      <td>0.915784</td>\n",
              "      <td>0.544357</td>\n",
              "      <td>0.805749</td>\n",
              "      <td>0.989868</td>\n",
              "      <td>0.949429</td>\n",
              "      <td>0.796856</td>\n",
              "      <td>0.439881</td>\n",
              "      <td>1.000000</td>\n",
              "      <td>0.730841</td>\n",
              "      <td>0.579309</td>\n",
              "      <td>0.781815</td>\n",
              "      <td>0.691273</td>\n",
              "      <td>0.615931</td>\n",
              "      <td>-0.000333</td>\n",
              "    </tr>\n",
              "    <tr>\n",
              "      <th>K</th>\n",
              "      <td>0.968827</td>\n",
              "      <td>0.246429</td>\n",
              "      <td>0.937868</td>\n",
              "      <td>-0.163679</td>\n",
              "      <td>0.989217</td>\n",
              "      <td>0.781534</td>\n",
              "      <td>0.894114</td>\n",
              "      <td>0.990875</td>\n",
              "      <td>0.926217</td>\n",
              "      <td>0.730841</td>\n",
              "      <td>1.000000</td>\n",
              "      <td>-0.085543</td>\n",
              "      <td>0.956598</td>\n",
              "      <td>0.992158</td>\n",
              "      <td>0.982980</td>\n",
              "      <td>-0.000693</td>\n",
              "    </tr>\n",
              "    <tr>\n",
              "      <th>L</th>\n",
              "      <td>0.139619</td>\n",
              "      <td>0.854635</td>\n",
              "      <td>0.238723</td>\n",
              "      <td>0.949485</td>\n",
              "      <td>0.026319</td>\n",
              "      <td>0.518117</td>\n",
              "      <td>0.335039</td>\n",
              "      <td>0.012005</td>\n",
              "      <td>-0.418110</td>\n",
              "      <td>0.579309</td>\n",
              "      <td>-0.085543</td>\n",
              "      <td>1.000000</td>\n",
              "      <td>0.029013</td>\n",
              "      <td>-0.138097</td>\n",
              "      <td>-0.233820</td>\n",
              "      <td>0.000094</td>\n",
              "    </tr>\n",
              "    <tr>\n",
              "      <th>M</th>\n",
              "      <td>0.958931</td>\n",
              "      <td>0.345030</td>\n",
              "      <td>0.941040</td>\n",
              "      <td>-0.042057</td>\n",
              "      <td>0.964769</td>\n",
              "      <td>0.823551</td>\n",
              "      <td>0.910385</td>\n",
              "      <td>0.964627</td>\n",
              "      <td>0.848801</td>\n",
              "      <td>0.781815</td>\n",
              "      <td>0.956598</td>\n",
              "      <td>0.029013</td>\n",
              "      <td>1.000000</td>\n",
              "      <td>0.947381</td>\n",
              "      <td>0.926620</td>\n",
              "      <td>-0.000662</td>\n",
              "    </tr>\n",
              "    <tr>\n",
              "      <th>N</th>\n",
              "      <td>0.953081</td>\n",
              "      <td>0.194578</td>\n",
              "      <td>0.916578</td>\n",
              "      <td>-0.217856</td>\n",
              "      <td>0.979925</td>\n",
              "      <td>0.745156</td>\n",
              "      <td>0.867546</td>\n",
              "      <td>0.982403</td>\n",
              "      <td>0.943365</td>\n",
              "      <td>0.691273</td>\n",
              "      <td>0.992158</td>\n",
              "      <td>-0.138097</td>\n",
              "      <td>0.947381</td>\n",
              "      <td>1.000000</td>\n",
              "      <td>0.988920</td>\n",
              "      <td>-0.000722</td>\n",
              "    </tr>\n",
              "    <tr>\n",
              "      <th>O</th>\n",
              "      <td>0.920322</td>\n",
              "      <td>0.098805</td>\n",
              "      <td>0.873800</td>\n",
              "      <td>-0.316241</td>\n",
              "      <td>0.958885</td>\n",
              "      <td>0.675416</td>\n",
              "      <td>0.815281</td>\n",
              "      <td>0.962873</td>\n",
              "      <td>0.970965</td>\n",
              "      <td>0.615931</td>\n",
              "      <td>0.982980</td>\n",
              "      <td>-0.233820</td>\n",
              "      <td>0.926620</td>\n",
              "      <td>0.988920</td>\n",
              "      <td>1.000000</td>\n",
              "      <td>-0.000700</td>\n",
              "    </tr>\n",
              "    <tr>\n",
              "      <th>Class</th>\n",
              "      <td>-0.000620</td>\n",
              "      <td>0.000138</td>\n",
              "      <td>-0.000686</td>\n",
              "      <td>0.000150</td>\n",
              "      <td>-0.000649</td>\n",
              "      <td>-0.000540</td>\n",
              "      <td>-0.000472</td>\n",
              "      <td>-0.000670</td>\n",
              "      <td>-0.000766</td>\n",
              "      <td>-0.000333</td>\n",
              "      <td>-0.000693</td>\n",
              "      <td>0.000094</td>\n",
              "      <td>-0.000662</td>\n",
              "      <td>-0.000722</td>\n",
              "      <td>-0.000700</td>\n",
              "      <td>1.000000</td>\n",
              "    </tr>\n",
              "  </tbody>\n",
              "</table>\n",
              "</div>"
            ],
            "text/plain": [
              "              A         B         C  ...         N         O     Class\n",
              "A      1.000000  0.455949  0.991999  ...  0.953081  0.920322 -0.000620\n",
              "B      0.455949  1.000000  0.541742  ...  0.194578  0.098805  0.000138\n",
              "C      0.991999  0.541742  1.000000  ...  0.916578  0.873800 -0.000686\n",
              "D      0.071330  0.865856  0.176224  ... -0.217856 -0.316241  0.000150\n",
              "E      0.990703  0.352946  0.971805  ...  0.979925  0.958885 -0.000649\n",
              "F      0.905353  0.760708  0.943482  ...  0.745156  0.675416 -0.000540\n",
              "G      0.972223  0.620607  0.988351  ...  0.867546  0.815281 -0.000472\n",
              "H      0.988807  0.339549  0.968342  ...  0.982403  0.962873 -0.000670\n",
              "I      0.818399 -0.098558  0.753474  ...  0.943365  0.970965 -0.000766\n",
              "J      0.870016  0.803246  0.915784  ...  0.691273  0.615931 -0.000333\n",
              "K      0.968827  0.246429  0.937868  ...  0.992158  0.982980 -0.000693\n",
              "L      0.139619  0.854635  0.238723  ... -0.138097 -0.233820  0.000094\n",
              "M      0.958931  0.345030  0.941040  ...  0.947381  0.926620 -0.000662\n",
              "N      0.953081  0.194578  0.916578  ...  1.000000  0.988920 -0.000722\n",
              "O      0.920322  0.098805  0.873800  ...  0.988920  1.000000 -0.000700\n",
              "Class -0.000620  0.000138 -0.000686  ... -0.000722 -0.000700  1.000000\n",
              "\n",
              "[16 rows x 16 columns]"
            ]
          },
          "metadata": {
            "tags": []
          },
          "execution_count": 20
        }
      ]
    },
    {
      "cell_type": "markdown",
      "metadata": {
        "id": "vLUL9KCgm9s4"
      },
      "source": [
        "##Data Processsing:\n",
        "\n",
        "The data in the given dataset has significant amount of negative values for every features and we ahve 15 features in given datasets. \n",
        "\n",
        "The data is imputed with mean of each column. An sklearn pipeline is built, with column transformation and classifier."
      ]
    },
    {
      "cell_type": "code",
      "metadata": {
        "id": "QptOsDJ1f_Yx"
      },
      "source": [
        "# get X and Y in out data sets so A-O will be our X and class will be Y\n",
        "Y = data[['Class']]\n",
        "X = data.drop(['Class'], axis=1)"
      ],
      "execution_count": 21,
      "outputs": []
    },
    {
      "cell_type": "code",
      "metadata": {
        "colab": {
          "base_uri": "https://localhost:8080/"
        },
        "id": "yb3gew_yhVMY",
        "outputId": "c8d73c67-a01d-4852-c163-2a9a61f864d8"
      },
      "source": [
        "## Divide the data in train and test\n",
        "\n",
        "stratified_sampling = StratifiedShuffleSplit(n_splits=6, test_size=0.3, random_state=42)\n",
        "stratified_sampling.get_n_splits(X, Y)\n",
        "\n",
        "for train_index, test_index in stratified_sampling.split(X, Y):\n",
        "    print(\"TRAIN:\", train_index, \"TEST:\", test_index)\n",
        "    X_train, X_test = X.loc[train_index], X.loc[test_index]\n",
        "    Y_train, Y_test = Y.loc[train_index], Y.loc[test_index]"
      ],
      "execution_count": 22,
      "outputs": [
        {
          "output_type": "stream",
          "text": [
            "TRAIN: [ 778764  991315  616125 ... 1054762  929382  246584] TEST: [440800 755505  14672 ... 480361 880393 294081]\n",
            "TRAIN: [ 420200 1048374  944562 ...  814542  134218 1009666] TEST: [ 573604 1034825  379710 ...  433161  857384  777189]\n",
            "TRAIN: [ 740925 1065358  884581 ...  467222  735300  346198] TEST: [ 520270  451003  195629 ... 1020353 1026947  533672]\n",
            "TRAIN: [122155 650515   6838 ... 523377 801698 446702] TEST: [522048 217411 728177 ... 827966 854168 322787]\n",
            "TRAIN: [ 130486 1037012  369285 ...  624365 1136468  543681] TEST: [ 427918 1196787   63472 ... 1022096  817560  931930]\n",
            "TRAIN: [892016 803723 533026 ... 355179  44312 931019] TEST: [430987 568623 632169 ... 288370 714261 937859]\n"
          ],
          "name": "stdout"
        }
      ]
    },
    {
      "cell_type": "code",
      "metadata": {
        "id": "7R1Xh8rgi8Po"
      },
      "source": [
        "train_data = pd.concat([X_train, Y_train], axis=1)\n",
        "#train_data.head()"
      ],
      "execution_count": 23,
      "outputs": []
    },
    {
      "cell_type": "code",
      "metadata": {
        "colab": {
          "base_uri": "https://localhost:8080/",
          "height": 222
        },
        "id": "znFbWxgklruh",
        "outputId": "441dfb3d-74b2-4b77-e87d-287fb15ee08b"
      },
      "source": [
        "test_data = pd.concat([X_test, Y_test], axis=1)\n",
        "test_data.head()"
      ],
      "execution_count": 24,
      "outputs": [
        {
          "output_type": "execute_result",
          "data": {
            "text/html": [
              "<div>\n",
              "<style scoped>\n",
              "    .dataframe tbody tr th:only-of-type {\n",
              "        vertical-align: middle;\n",
              "    }\n",
              "\n",
              "    .dataframe tbody tr th {\n",
              "        vertical-align: top;\n",
              "    }\n",
              "\n",
              "    .dataframe thead th {\n",
              "        text-align: right;\n",
              "    }\n",
              "</style>\n",
              "<table border=\"1\" class=\"dataframe\">\n",
              "  <thead>\n",
              "    <tr style=\"text-align: right;\">\n",
              "      <th></th>\n",
              "      <th>A</th>\n",
              "      <th>B</th>\n",
              "      <th>C</th>\n",
              "      <th>D</th>\n",
              "      <th>E</th>\n",
              "      <th>F</th>\n",
              "      <th>G</th>\n",
              "      <th>H</th>\n",
              "      <th>I</th>\n",
              "      <th>J</th>\n",
              "      <th>K</th>\n",
              "      <th>L</th>\n",
              "      <th>M</th>\n",
              "      <th>N</th>\n",
              "      <th>O</th>\n",
              "      <th>Class</th>\n",
              "    </tr>\n",
              "  </thead>\n",
              "  <tbody>\n",
              "    <tr>\n",
              "      <th>430987</th>\n",
              "      <td>-32.726917</td>\n",
              "      <td>-8.525324</td>\n",
              "      <td>15.996091</td>\n",
              "      <td>16.913023</td>\n",
              "      <td>-27.391240</td>\n",
              "      <td>-28.508286</td>\n",
              "      <td>5.261269</td>\n",
              "      <td>-29.843802</td>\n",
              "      <td>-8.711469</td>\n",
              "      <td>35.537022</td>\n",
              "      <td>2.352276</td>\n",
              "      <td>4.783837</td>\n",
              "      <td>-55.529432</td>\n",
              "      <td>-6.199949</td>\n",
              "      <td>1.173385</td>\n",
              "      <td>3</td>\n",
              "    </tr>\n",
              "    <tr>\n",
              "      <th>568623</th>\n",
              "      <td>-30.966055</td>\n",
              "      <td>-19.975955</td>\n",
              "      <td>7.006020</td>\n",
              "      <td>19.204725</td>\n",
              "      <td>-22.953425</td>\n",
              "      <td>-24.605902</td>\n",
              "      <td>3.775915</td>\n",
              "      <td>-28.534427</td>\n",
              "      <td>-10.442712</td>\n",
              "      <td>27.596098</td>\n",
              "      <td>3.643748</td>\n",
              "      <td>-0.745326</td>\n",
              "      <td>-56.170372</td>\n",
              "      <td>-7.617898</td>\n",
              "      <td>1.874840</td>\n",
              "      <td>3</td>\n",
              "    </tr>\n",
              "    <tr>\n",
              "      <th>632169</th>\n",
              "      <td>-60.533701</td>\n",
              "      <td>-48.897961</td>\n",
              "      <td>-42.288993</td>\n",
              "      <td>-113.862220</td>\n",
              "      <td>-21.464887</td>\n",
              "      <td>-119.854821</td>\n",
              "      <td>-50.176580</td>\n",
              "      <td>-17.320671</td>\n",
              "      <td>48.021959</td>\n",
              "      <td>-91.291658</td>\n",
              "      <td>42.655019</td>\n",
              "      <td>-34.520933</td>\n",
              "      <td>-39.795170</td>\n",
              "      <td>34.166175</td>\n",
              "      <td>67.057570</td>\n",
              "      <td>1</td>\n",
              "    </tr>\n",
              "    <tr>\n",
              "      <th>1033609</th>\n",
              "      <td>-38.295545</td>\n",
              "      <td>-14.851853</td>\n",
              "      <td>11.873488</td>\n",
              "      <td>21.766062</td>\n",
              "      <td>-22.518266</td>\n",
              "      <td>-24.152995</td>\n",
              "      <td>-2.381897</td>\n",
              "      <td>-29.238621</td>\n",
              "      <td>-4.167289</td>\n",
              "      <td>24.610347</td>\n",
              "      <td>13.134333</td>\n",
              "      <td>5.904119</td>\n",
              "      <td>-57.410327</td>\n",
              "      <td>-5.498198</td>\n",
              "      <td>2.876530</td>\n",
              "      <td>1</td>\n",
              "    </tr>\n",
              "    <tr>\n",
              "      <th>1038059</th>\n",
              "      <td>-27.747038</td>\n",
              "      <td>-11.539987</td>\n",
              "      <td>19.261715</td>\n",
              "      <td>23.681083</td>\n",
              "      <td>-24.054594</td>\n",
              "      <td>-13.333507</td>\n",
              "      <td>1.783816</td>\n",
              "      <td>-24.539398</td>\n",
              "      <td>-7.737608</td>\n",
              "      <td>19.376088</td>\n",
              "      <td>1.995280</td>\n",
              "      <td>-0.438257</td>\n",
              "      <td>-57.721949</td>\n",
              "      <td>-4.838183</td>\n",
              "      <td>-0.696083</td>\n",
              "      <td>2</td>\n",
              "    </tr>\n",
              "  </tbody>\n",
              "</table>\n",
              "</div>"
            ],
            "text/plain": [
              "                 A          B          C  ...          N          O  Class\n",
              "430987  -32.726917  -8.525324  15.996091  ...  -6.199949   1.173385      3\n",
              "568623  -30.966055 -19.975955   7.006020  ...  -7.617898   1.874840      3\n",
              "632169  -60.533701 -48.897961 -42.288993  ...  34.166175  67.057570      1\n",
              "1033609 -38.295545 -14.851853  11.873488  ...  -5.498198   2.876530      1\n",
              "1038059 -27.747038 -11.539987  19.261715  ...  -4.838183  -0.696083      2\n",
              "\n",
              "[5 rows x 16 columns]"
            ]
          },
          "metadata": {
            "tags": []
          },
          "execution_count": 24
        }
      ]
    },
    {
      "cell_type": "code",
      "metadata": {
        "id": "mij9Mph_luYj"
      },
      "source": [
        "# data pipeline\n",
        "\n",
        "data_features = [0,1,2,3,4,5,6,7,8,9,10,11,12,13,14]\n",
        "\n",
        "data_transformer = Pipeline(steps=[\n",
        "    ('imputer',\n",
        "     SimpleImputer(strategy='mean')),\n",
        "    ('scaler',\n",
        "     StandardScaler())\n",
        "])\n",
        "\n",
        "preprocessor = ColumnTransformer(transformers=[\n",
        "    ('data',\n",
        "     data_transformer,\n",
        "     data_features),\n",
        "])"
      ],
      "execution_count": 25,
      "outputs": []
    },
    {
      "cell_type": "markdown",
      "metadata": {
        "id": "G72h3MeNoYB8"
      },
      "source": [
        "##Model Training:\n",
        "The model chosen for this data set is Random Forest Classifier. This model is fast, it avoids over-fitting the data. The hyper-tuning parameters used to tune the model are:\n",
        "\n",
        "\n",
        "**max_depth**=2 :- The maximum depth of the tree, **n_estimators**=1000 :- The number of trees in the forest, **n_jobs**=-1 :- The number of jobs to run in parallel for both fit and predict, **criterion**='gini' :- The function to measure the quality of a split, **random_state**=32 :- If int, random_state is the seed used by the random number generator, **max_features**= 2 :- The number of features to consider when looking for the best split, **max_leaf_nodes**=2 :- Grow trees with max_leaf_nodes in best-first fashion.\n",
        "\n",
        "The data set was spilt according to stratified sampling using 'StratifiedShuffleSplit', with k-folds =6.The data was split into training and testing(validation) data set in 70-30 ratio. The model was then trained using the training data. The most important features of the model were identified. The 'SelectFromModel' function was used to select the best features from the model"
      ]
    },
    {
      "cell_type": "code",
      "metadata": {
        "id": "y3d20L-on1uv"
      },
      "source": [
        "classifier = RandomForestClassifier( max_depth=2, n_estimators=1000, n_jobs=-1, criterion='gini',\n",
        "                                    random_state=32, class_weight=None,\n",
        "                                    max_features= 2, max_leaf_nodes=2)"
      ],
      "execution_count": 26,
      "outputs": []
    },
    {
      "cell_type": "code",
      "metadata": {
        "id": "Jrh5th0OpVE8"
      },
      "source": [
        "pipeline = Pipeline([\n",
        "    ('precprocessor',\n",
        "     preprocessor),\n",
        "    ('feature_selection', \n",
        "    SelectFromModel(LinearSVC(C=1.0, loss='squared_hinge', penalty='l1', dual=False))),\n",
        "    ('classifier',\n",
        "     classifier)\n",
        "])"
      ],
      "execution_count": 27,
      "outputs": []
    },
    {
      "cell_type": "code",
      "metadata": {
        "colab": {
          "base_uri": "https://localhost:8080/"
        },
        "id": "iMiOiiWzpX0v",
        "outputId": "003b1800-bcf8-4548-d1c6-377563df4631"
      },
      "source": [
        "pipeline.fit(train_data.drop('Class', axis=1), \n",
        "             train_data[\"Class\"])"
      ],
      "execution_count": 28,
      "outputs": [
        {
          "output_type": "stream",
          "text": [
            "/usr/local/lib/python3.7/dist-packages/sklearn/svm/_base.py:947: ConvergenceWarning: Liblinear failed to converge, increase the number of iterations.\n",
            "  \"the number of iterations.\", ConvergenceWarning)\n"
          ],
          "name": "stderr"
        },
        {
          "output_type": "execute_result",
          "data": {
            "text/plain": [
              "Pipeline(memory=None,\n",
              "         steps=[('precprocessor',\n",
              "                 ColumnTransformer(n_jobs=None, remainder='drop',\n",
              "                                   sparse_threshold=0.3,\n",
              "                                   transformer_weights=None,\n",
              "                                   transformers=[('data',\n",
              "                                                  Pipeline(memory=None,\n",
              "                                                           steps=[('imputer',\n",
              "                                                                   SimpleImputer(add_indicator=False,\n",
              "                                                                                 copy=True,\n",
              "                                                                                 fill_value=None,\n",
              "                                                                                 missing_values=nan,\n",
              "                                                                                 strategy='mean',\n",
              "                                                                                 verbose=0)),\n",
              "                                                                  ('scaler',\n",
              "                                                                   StandardScaler(copy=True,\n",
              "                                                                                  with_mean...\n",
              "                 RandomForestClassifier(bootstrap=True, ccp_alpha=0.0,\n",
              "                                        class_weight=None, criterion='gini',\n",
              "                                        max_depth=2, max_features=2,\n",
              "                                        max_leaf_nodes=2, max_samples=None,\n",
              "                                        min_impurity_decrease=0.0,\n",
              "                                        min_impurity_split=None,\n",
              "                                        min_samples_leaf=1, min_samples_split=2,\n",
              "                                        min_weight_fraction_leaf=0.0,\n",
              "                                        n_estimators=1000, n_jobs=-1,\n",
              "                                        oob_score=False, random_state=32,\n",
              "                                        verbose=0, warm_start=False))],\n",
              "         verbose=False)"
            ]
          },
          "metadata": {
            "tags": []
          },
          "execution_count": 28
        }
      ]
    },
    {
      "cell_type": "markdown",
      "metadata": {
        "id": "wrWfmv9WqSEI"
      },
      "source": [
        "#### Lets look for Important features in the data set"
      ]
    },
    {
      "cell_type": "code",
      "metadata": {
        "colab": {
          "base_uri": "https://localhost:8080/",
          "height": 283
        },
        "id": "PjSqcDecpfGv",
        "outputId": "6596efd0-4ea3-444c-c42a-b1c4858ebb0a"
      },
      "source": [
        "feat_importances = pd.Series(classifier.feature_importances_, index=X_train.columns)\n",
        "feat_importances.nlargest(20).plot(kind='barh')"
      ],
      "execution_count": 29,
      "outputs": [
        {
          "output_type": "execute_result",
          "data": {
            "text/plain": [
              "<matplotlib.axes._subplots.AxesSubplot at 0x7fd04f5b9e10>"
            ]
          },
          "metadata": {
            "tags": []
          },
          "execution_count": 29
        },
        {
          "output_type": "display_data",
          "data": {
            "image/png": "[encoded data removed]",
            "text/plain": [
              "<Figure size 432x288 with 1 Axes>"
            ]
          },
          "metadata": {
            "tags": [],
            "needs_background": "light"
          }
        }
      ]
    },
    {
      "cell_type": "markdown",
      "metadata": {
        "id": "w5i7-kXvvhii"
      },
      "source": [
        "#Model Validation:\n",
        "\n",
        "The model was validated/tested using the testing data set that was out-of-sample/test data from the stratified sampling that was not used during the model training. \n",
        "\n",
        "The results of the model in form of accuracy and f1 score.\n",
        "\n",
        "F1-score : 0.3326175301652233\n",
        "\n",
        "Accuracy : 0.49935555555555555"
      ]
    },
    {
      "cell_type": "code",
      "metadata": {
        "id": "b4-xNUYqr2ir"
      },
      "source": [
        "predictions = pipeline.predict(X_test)"
      ],
      "execution_count": 30,
      "outputs": []
    },
    {
      "cell_type": "code",
      "metadata": {
        "colab": {
          "base_uri": "https://localhost:8080/"
        },
        "id": "0qY5GSqgvoeD",
        "outputId": "8144e342-001e-4db8-b531-2f1fac8cda70"
      },
      "source": [
        "predictions"
      ],
      "execution_count": 31,
      "outputs": [
        {
          "output_type": "execute_result",
          "data": {
            "text/plain": [
              "array([2, 2, 2, ..., 2, 2, 2])"
            ]
          },
          "metadata": {
            "tags": []
          },
          "execution_count": 31
        }
      ]
    },
    {
      "cell_type": "code",
      "metadata": {
        "colab": {
          "base_uri": "https://localhost:8080/"
        },
        "id": "rVgFQWCcvsTB",
        "outputId": "b92815a9-927e-4155-c924-ba4354e3ebc6"
      },
      "source": [
        "confusion_metrics = metrics.confusion_matrix(Y_test, predictions)\n",
        "print(\"The confusion matrix is:\")\n",
        "print(confusion_metrics)"
      ],
      "execution_count": 32,
      "outputs": [
        {
          "output_type": "stream",
          "text": [
            "The confusion matrix is:\n",
            "[[     0  59998      0]\n",
            " [     0 179768      0]\n",
            " [     0 120234      0]]\n"
          ],
          "name": "stdout"
        }
      ]
    },
    {
      "cell_type": "code",
      "metadata": {
        "colab": {
          "base_uri": "https://localhost:8080/"
        },
        "id": "tU3Z11uwvuA5",
        "outputId": "b86f4845-83c4-4eb3-8252-3a6b31ffed30"
      },
      "source": [
        "score = metrics.f1_score(Y_test, predictions, average = 'weighted')\n",
        "print(\"The f1 score is:\", score)\n",
        "pscore = metrics.accuracy_score(Y_test, predictions)\n",
        "print(\"The accuracy is:\",pscore)"
      ],
      "execution_count": 33,
      "outputs": [
        {
          "output_type": "stream",
          "text": [
            "The f1 score is: 0.3326175301652233\n",
            "The accuracy is: 0.49935555555555555\n"
          ],
          "name": "stdout"
        }
      ]
    },
    {
      "cell_type": "markdown",
      "metadata": {
        "id": "a7yzUqbz7CKS"
      },
      "source": [
        "### ONNX Pipeline Model deployment "
      ]
    },
    {
      "cell_type": "code",
      "metadata": {
        "id": "HWMOsVKiv4Rl"
      },
      "source": [
        "input_types = dict([(x, FloatTensorType([None, 1])) for x in X_train.columns.values])\n",
        " \n",
        "try:\n",
        "    model_onnx = convert_sklearn(pipeline, 'Project_onnx', initial_types=list(input_types.items()))\n",
        "except Exception as e:\n",
        "    print(e)\n",
        "\n",
        "with open(\"/content/drive/MyDrive/Spring Data Mining 422/Project/Project.onnx\", \"wb\") as f:\n",
        "    f.write(model_onnx.SerializeToString())"
      ],
      "execution_count": 34,
      "outputs": []
    },
    {
      "cell_type": "code",
      "metadata": {
        "id": "_lHKtBfAsE-c"
      },
      "source": [
        "\n"
      ],
      "execution_count": 34,
      "outputs": []
    },
    {
      "cell_type": "code",
      "metadata": {
        "colab": {
          "base_uri": "https://localhost:8080/"
        },
        "id": "nnLO8KxNwROL",
        "outputId": "78d1ca6b-6634-4de9-9fde-23c1de7aa7d1"
      },
      "source": [
        "inputs_onnx = {k: np.array(v).astype(np.float32)[:, np.newaxis] for k, v in X_test.to_dict(orient='list').items()}\n",
        "\n",
        "session_onnx = rt.InferenceSession(\"/content/drive/MyDrive/Spring Data Mining 422/Project/Project.onnx\")\n",
        "predict_onnx = session_onnx.run(None, inputs_onnx)\n",
        "print(\"predict\", predict_onnx[0])"
      ],
      "execution_count": 35,
      "outputs": [
        {
          "output_type": "stream",
          "text": [
            "predict [2 2 2 ... 2 2 2]\n"
          ],
          "name": "stdout"
        }
      ]
    },
    {
      "cell_type": "code",
      "metadata": {
        "colab": {
          "base_uri": "https://localhost:8080/",
          "height": 1000
        },
        "id": "UrH-XxUd51qw",
        "outputId": "527ebc50-aff5-4e74-ce0c-a48a352d2a0c"
      },
      "source": [
        "pydot_graph = GetPydotGraph(model_onnx.graph,\n",
        "                            name=model_onnx.graph.name,\n",
        "                            rankdir=\"TB\",\n",
        "                            node_producer=GetOpNodeProducer(\"docstring\",\n",
        "                                                            color=\"yellow\",\n",
        "                                                            fillcolor=\"yellow\",\n",
        "                                                            style=\"filled\"))\n",
        "\n",
        "graphviz.Source(pydot_graph)"
      ],
      "execution_count": 36,
      "outputs": [
        {
          "output_type": "execute_result",
          "data": {
            "text/plain": [
              "<graphviz.files.Source at 0x7fd047c69590>"
            ],
            "image/svg+xml": "<?xml version=\"1.0\" encoding=\"UTF-8\" standalone=\"no\"?>\n<!DOCTYPE svg PUBLIC \"-//W3C//DTD SVG 1.1//EN\"\n \"http://www.w3.org/Graphics/SVG/1.1/DTD/svg11.dtd\">\n<!-- Generated by graphviz version 2.40.1 (20161225.0304)\n -->\n<!-- Title: Project_onnx Pages: 1 -->\n<svg width=\"2902pt\" height=\"1664pt\"\n viewBox=\"0.00 0.00 2901.76 1664.08\" xmlns=\"http://www.w3.org/2000/svg\" xmlns:xlink=\"http://www.w3.org/1999/xlink\">\n<g id=\"graph0\" class=\"graph\" transform=\"scale(1 1) rotate(0) translate(4 1660.0845)\">\n<title>Project_onnx</title>\n<polygon fill=\"#ffffff\" stroke=\"transparent\" points=\"-4,4 -4,-1660.0845 2897.7559,-1660.0845 2897.7559,4 -4,4\"/>\n<!-- Cast/Cast (op#0)\\n input0 A\\n output0 A_cast -->\n<g id=\"node1\" class=\"node\">\n<title>Cast/Cast (op#0)\\n input0 A\\n output0 A_cast</title>\n<g id=\"a_node1\"><a xlink:href=\"javascript:alert('')\" xlink:title=\"Cast/Cast (op#0)\\n input0 A\\n output0 A_cast\">\n<ellipse fill=\"#ffff00\" stroke=\"#ffff00\" cx=\"2813.8528\" cy=\"-1546.6078\" rx=\"79.8063\" ry=\"37.4533\"/>\n<text text-anchor=\"middle\" x=\"2813.8528\" y=\"-1557.9078\" font-family=\"Times,serif\" font-size=\"14.00\" fill=\"#000000\">Cast/Cast (op#0)</text>\n<text text-anchor=\"middle\" x=\"2813.8528\" y=\"-1542.9078\" font-family=\"Times,serif\" font-size=\"14.00\" fill=\"#000000\"> input0 A</text>\n<text text-anchor=\"middle\" x=\"2813.8528\" y=\"-1527.9078\" font-family=\"Times,serif\" font-size=\"14.00\" fill=\"#000000\"> output0 A_cast</text>\n</a>\n</g>\n</g>\n<!-- A_cast0 -->\n<g id=\"node3\" class=\"node\">\n<title>A_cast0</title>\n<polygon fill=\"none\" stroke=\"#000000\" points=\"2750.1443,-1447.6753 2750.1443,-1462.587 2727.1279,-1473.1312 2694.5778,-1473.1312 2671.5614,-1462.587 2671.5614,-1447.6753 2694.5778,-1437.1312 2727.1279,-1437.1312 2750.1443,-1447.6753\"/>\n<text text-anchor=\"middle\" x=\"2710.8528\" y=\"-1451.4312\" font-family=\"Times,serif\" font-size=\"14.00\" fill=\"#000000\">A_cast</text>\n</g>\n<!-- Cast/Cast (op#0)\\n input0 A\\n output0 A_cast&#45;&gt;A_cast0 -->\n<g id=\"edge2\" class=\"edge\">\n<title>Cast/Cast (op#0)\\n input0 A\\n output0 A_cast&#45;&gt;A_cast0</title>\n<path fill=\"none\" stroke=\"#000000\" d=\"M2776.3761,-1513.3239C2763.5707,-1501.9511 2749.5132,-1489.4663 2737.7134,-1478.9867\"/>\n<polygon fill=\"#000000\" stroke=\"#000000\" points=\"2739.7494,-1476.1138 2729.9483,-1472.0903 2735.101,-1481.3477 2739.7494,-1476.1138\"/>\n</g>\n<!-- A0 -->\n<g id=\"node2\" class=\"node\">\n<title>A0</title>\n<polygon fill=\"none\" stroke=\"#000000\" points=\"2840.8528,-1630.6286 2840.8528,-1645.5403 2825.0366,-1656.0845 2802.669,-1656.0845 2786.8528,-1645.5403 2786.8528,-1630.6286 2802.669,-1620.0845 2825.0366,-1620.0845 2840.8528,-1630.6286\"/>\n<text text-anchor=\"middle\" x=\"2813.8528\" y=\"-1634.3845\" font-family=\"Times,serif\" font-size=\"14.00\" fill=\"#000000\">A</text>\n</g>\n<!-- A0&#45;&gt;Cast/Cast (op#0)\\n input0 A\\n output0 A_cast -->\n<g id=\"edge1\" class=\"edge\">\n<title>A0&#45;&gt;Cast/Cast (op#0)\\n input0 A\\n output0 A_cast</title>\n<path fill=\"none\" stroke=\"#000000\" d=\"M2813.8528,-1620.0116C2813.8528,-1612.5968 2813.8528,-1603.628 2813.8528,-1594.5435\"/>\n<polygon fill=\"#000000\" stroke=\"#000000\" points=\"2817.3529,-1594.3141 2813.8528,-1584.3141 2810.3529,-1594.3141 2817.3529,-1594.3141\"/>\n</g>\n<!-- Concat/Concat (op#15)\\n input0 A_cast\\n input1 B_cast\\n input2 C_cast\\n input3 D_cast\\n input4 E_cast\\n input5 F_cast\\n input6 G_cast\\n input7 H_cast\\n input8 I_cast\\n input9 J_cast\\n input10 K_cast\\n input11 L_cast\\n input12 M_cast\\n input13 N_cast\\n input14 O_cast\\n output0 merged_columns -->\n<g id=\"node46\" class=\"node\">\n<title>Concat/Concat (op#15)\\n input0 A_cast\\n input1 B_cast\\n input2 C_cast\\n input3 D_cast\\n input4 E_cast\\n input5 F_cast\\n input6 G_cast\\n input7 H_cast\\n input8 I_cast\\n input9 J_cast\\n input10 K_cast\\n input11 L_cast\\n input12 M_cast\\n input13 N_cast\\n input14 O_cast\\n output0 merged_columns</title>\n<g id=\"a_node46\"><a xlink:href=\"javascript:alert('')\" xlink:title=\"Concat/Concat (op#15)\\n input0 A_cast\\n input1 B_cast\\n input2 C_cast\\n input3 D_cast\\n input4 E_cast\\n input5 F_cast\\n input6 G_cast\\n input7 H_cast\\n input8 I_cast\\n input9 J_cast\\n input10 K_cast\\n input11 L_cast\\n input12 M_cast\\n input13 N_cast\\n input14 O_cast\\n output0 merged_columns\">\n<ellipse fill=\"#ffff00\" stroke=\"#ffff00\" cx=\"1400.8528\" cy=\"-1215.1621\" rx=\"118.5882\" ry=\"185.9382\"/>\n<text text-anchor=\"middle\" x=\"1400.8528\" y=\"-1331.4621\" font-family=\"Times,serif\" font-size=\"14.00\" fill=\"#000000\">Concat/Concat (op#15)</text>\n<text text-anchor=\"middle\" x=\"1400.8528\" y=\"-1316.4621\" font-family=\"Times,serif\" font-size=\"14.00\" fill=\"#000000\"> input0 A_cast</text>\n<text text-anchor=\"middle\" x=\"1400.8528\" y=\"-1301.4621\" font-family=\"Times,serif\" font-size=\"14.00\" fill=\"#000000\"> input1 B_cast</text>\n<text text-anchor=\"middle\" x=\"1400.8528\" y=\"-1286.4621\" font-family=\"Times,serif\" font-size=\"14.00\" fill=\"#000000\"> input2 C_cast</text>\n<text text-anchor=\"middle\" x=\"1400.8528\" y=\"-1271.4621\" font-family=\"Times,serif\" font-size=\"14.00\" fill=\"#000000\"> input3 D_cast</text>\n<text text-anchor=\"middle\" x=\"1400.8528\" y=\"-1256.4621\" font-family=\"Times,serif\" font-size=\"14.00\" fill=\"#000000\"> input4 E_cast</text>\n<text text-anchor=\"middle\" x=\"1400.8528\" y=\"-1241.4621\" font-family=\"Times,serif\" font-size=\"14.00\" fill=\"#000000\"> input5 F_cast</text>\n<text text-anchor=\"middle\" x=\"1400.8528\" y=\"-1226.4621\" font-family=\"Times,serif\" font-size=\"14.00\" fill=\"#000000\"> input6 G_cast</text>\n<text text-anchor=\"middle\" x=\"1400.8528\" y=\"-1211.4621\" font-family=\"Times,serif\" font-size=\"14.00\" fill=\"#000000\"> input7 H_cast</text>\n<text text-anchor=\"middle\" x=\"1400.8528\" y=\"-1196.4621\" font-family=\"Times,serif\" font-size=\"14.00\" fill=\"#000000\"> input8 I_cast</text>\n<text text-anchor=\"middle\" x=\"1400.8528\" y=\"-1181.4621\" font-family=\"Times,serif\" font-size=\"14.00\" fill=\"#000000\"> input9 J_cast</text>\n<text text-anchor=\"middle\" x=\"1400.8528\" y=\"-1166.4621\" font-family=\"Times,serif\" font-size=\"14.00\" fill=\"#000000\"> input10 K_cast</text>\n<text text-anchor=\"middle\" x=\"1400.8528\" y=\"-1151.4621\" font-family=\"Times,serif\" font-size=\"14.00\" fill=\"#000000\"> input11 L_cast</text>\n<text text-anchor=\"middle\" x=\"1400.8528\" y=\"-1136.4621\" font-family=\"Times,serif\" font-size=\"14.00\" fill=\"#000000\"> input12 M_cast</text>\n<text text-anchor=\"middle\" x=\"1400.8528\" y=\"-1121.4621\" font-family=\"Times,serif\" font-size=\"14.00\" fill=\"#000000\"> input13 N_cast</text>\n<text text-anchor=\"middle\" x=\"1400.8528\" y=\"-1106.4621\" font-family=\"Times,serif\" font-size=\"14.00\" fill=\"#000000\"> input14 O_cast</text>\n<text text-anchor=\"middle\" x=\"1400.8528\" y=\"-1091.4621\" font-family=\"Times,serif\" font-size=\"14.00\" fill=\"#000000\"> output0 merged_columns</text>\n</a>\n</g>\n</g>\n<!-- A_cast0&#45;&gt;Concat/Concat (op#15)\\n input0 A_cast\\n input1 B_cast\\n input2 C_cast\\n input3 D_cast\\n input4 E_cast\\n input5 F_cast\\n input6 G_cast\\n input7 H_cast\\n input8 I_cast\\n input9 J_cast\\n input10 K_cast\\n input11 L_cast\\n input12 M_cast\\n input13 N_cast\\n input14 O_cast\\n output0 merged_columns -->\n<g id=\"edge31\" class=\"edge\">\n<title>A_cast0&#45;&gt;Concat/Concat (op#15)\\n input0 A_cast\\n input1 B_cast\\n input2 C_cast\\n input3 D_cast\\n input4 E_cast\\n input5 F_cast\\n input6 G_cast\\n input7 H_cast\\n input8 I_cast\\n input9 J_cast\\n input10 K_cast\\n input11 L_cast\\n input12 M_cast\\n input13 N_cast\\n input14 O_cast\\n output0 merged_columns</title>\n<path fill=\"none\" stroke=\"#000000\" d=\"M2671.2902,-1447.884C2499.8023,-1416.4704 1816.4616,-1291.2943 1529.1527,-1238.6644\"/>\n<polygon fill=\"#000000\" stroke=\"#000000\" points=\"1529.5678,-1235.1822 1519.1008,-1236.823 1528.3064,-1242.0677 1529.5678,-1235.1822\"/>\n</g>\n<!-- Cast1/Cast (op#1)\\n input0 B\\n output0 B_cast -->\n<g id=\"node4\" class=\"node\">\n<title>Cast1/Cast (op#1)\\n input0 B\\n output0 B_cast</title>\n<g id=\"a_node4\"><a xlink:href=\"javascript:alert('')\" xlink:title=\"Cast1/Cast (op#1)\\n input0 B\\n output0 B_cast\">\n<ellipse fill=\"#ffff00\" stroke=\"#ffff00\" cx=\"84.8528\" cy=\"-1546.6078\" rx=\"84.7059\" ry=\"37.4533\"/>\n<text text-anchor=\"middle\" x=\"84.8528\" y=\"-1557.9078\" font-family=\"Times,serif\" font-size=\"14.00\" fill=\"#000000\">Cast1/Cast (op#1)</text>\n<text text-anchor=\"middle\" x=\"84.8528\" y=\"-1542.9078\" font-family=\"Times,serif\" font-size=\"14.00\" fill=\"#000000\"> input0 B</text>\n<text text-anchor=\"middle\" x=\"84.8528\" y=\"-1527.9078\" font-family=\"Times,serif\" font-size=\"14.00\" fill=\"#000000\"> output0 B_cast</text>\n</a>\n</g>\n</g>\n<!-- B_cast0 -->\n<g id=\"node6\" class=\"node\">\n<title>B_cast0</title>\n<polygon fill=\"none\" stroke=\"#000000\" points=\"216.7379,-1447.6753 216.7379,-1462.587 193.9596,-1473.1312 161.7461,-1473.1312 138.9677,-1462.587 138.9677,-1447.6753 161.7461,-1437.1312 193.9596,-1437.1312 216.7379,-1447.6753\"/>\n<text text-anchor=\"middle\" x=\"177.8528\" y=\"-1451.4312\" font-family=\"Times,serif\" font-size=\"14.00\" fill=\"#000000\">B_cast</text>\n</g>\n<!-- Cast1/Cast (op#1)\\n input0 B\\n output0 B_cast&#45;&gt;B_cast0 -->\n<g id=\"edge4\" class=\"edge\">\n<title>Cast1/Cast (op#1)\\n input0 B\\n output0 B_cast&#45;&gt;B_cast0</title>\n<path fill=\"none\" stroke=\"#000000\" d=\"M119.7472,-1512.285C130.7545,-1501.4581 142.6886,-1489.7194 152.8613,-1479.7133\"/>\n<polygon fill=\"#000000\" stroke=\"#000000\" points=\"155.5777,-1481.9508 160.2526,-1472.4431 150.669,-1476.9603 155.5777,-1481.9508\"/>\n</g>\n<!-- B0 -->\n<g id=\"node5\" class=\"node\">\n<title>B0</title>\n<polygon fill=\"none\" stroke=\"#000000\" points=\"111.8528,-1630.6286 111.8528,-1645.5403 96.0366,-1656.0845 73.669,-1656.0845 57.8528,-1645.5403 57.8528,-1630.6286 73.669,-1620.0845 96.0366,-1620.0845 111.8528,-1630.6286\"/>\n<text text-anchor=\"middle\" x=\"84.8528\" y=\"-1634.3845\" font-family=\"Times,serif\" font-size=\"14.00\" fill=\"#000000\">B</text>\n</g>\n<!-- B0&#45;&gt;Cast1/Cast (op#1)\\n input0 B\\n output0 B_cast -->\n<g id=\"edge3\" class=\"edge\">\n<title>B0&#45;&gt;Cast1/Cast (op#1)\\n input0 B\\n output0 B_cast</title>\n<path fill=\"none\" stroke=\"#000000\" d=\"M84.8528,-1620.0116C84.8528,-1612.5968 84.8528,-1603.628 84.8528,-1594.5435\"/>\n<polygon fill=\"#000000\" stroke=\"#000000\" points=\"88.3529,-1594.3141 84.8528,-1584.3141 81.3529,-1594.3141 88.3529,-1594.3141\"/>\n</g>\n<!-- B_cast0&#45;&gt;Concat/Concat (op#15)\\n input0 A_cast\\n input1 B_cast\\n input2 C_cast\\n input3 D_cast\\n input4 E_cast\\n input5 F_cast\\n input6 G_cast\\n input7 H_cast\\n input8 I_cast\\n input9 J_cast\\n input10 K_cast\\n input11 L_cast\\n input12 M_cast\\n input13 N_cast\\n input14 O_cast\\n output0 merged_columns -->\n<g id=\"edge32\" class=\"edge\">\n<title>B_cast0&#45;&gt;Concat/Concat (op#15)\\n input0 A_cast\\n input1 B_cast\\n input2 C_cast\\n input3 D_cast\\n input4 E_cast\\n input5 F_cast\\n input6 G_cast\\n input7 H_cast\\n input8 I_cast\\n input9 J_cast\\n input10 K_cast\\n input11 L_cast\\n input12 M_cast\\n input13 N_cast\\n input14 O_cast\\n output0 merged_columns</title>\n<path fill=\"none\" stroke=\"#000000\" d=\"M216.4747,-1447.553C377.7052,-1415.9174 1001.2613,-1293.5673 1273.0275,-1240.2431\"/>\n<polygon fill=\"#000000\" stroke=\"#000000\" points=\"1273.8012,-1243.6581 1282.9402,-1238.2981 1272.4534,-1236.7891 1273.8012,-1243.6581\"/>\n</g>\n<!-- Cast2/Cast (op#2)\\n input0 C\\n output0 C_cast -->\n<g id=\"node7\" class=\"node\">\n<title>Cast2/Cast (op#2)\\n input0 C\\n output0 C_cast</title>\n<g id=\"a_node7\"><a xlink:href=\"javascript:alert('')\" xlink:title=\"Cast2/Cast (op#2)\\n input0 C\\n output0 C_cast\">\n<ellipse fill=\"#ffff00\" stroke=\"#ffff00\" cx=\"272.8528\" cy=\"-1546.6078\" rx=\"84.7059\" ry=\"37.4533\"/>\n<text text-anchor=\"middle\" x=\"272.8528\" y=\"-1557.9078\" font-family=\"Times,serif\" font-size=\"14.00\" fill=\"#000000\">Cast2/Cast (op#2)</text>\n<text text-anchor=\"middle\" x=\"272.8528\" y=\"-1542.9078\" font-family=\"Times,serif\" font-size=\"14.00\" fill=\"#000000\"> input0 C</text>\n<text text-anchor=\"middle\" x=\"272.8528\" y=\"-1527.9078\" font-family=\"Times,serif\" font-size=\"14.00\" fill=\"#000000\"> output0 C_cast</text>\n</a>\n</g>\n</g>\n<!-- C_cast0 -->\n<g id=\"node9\" class=\"node\">\n<title>C_cast0</title>\n<polygon fill=\"none\" stroke=\"#000000\" points=\"357.7379,-1447.6753 357.7379,-1462.587 334.9596,-1473.1312 302.7461,-1473.1312 279.9677,-1462.587 279.9677,-1447.6753 302.7461,-1437.1312 334.9596,-1437.1312 357.7379,-1447.6753\"/>\n<text text-anchor=\"middle\" x=\"318.8528\" y=\"-1451.4312\" font-family=\"Times,serif\" font-size=\"14.00\" fill=\"#000000\">C_cast</text>\n</g>\n<!-- Cast2/Cast (op#2)\\n input0 C\\n output0 C_cast&#45;&gt;C_cast0 -->\n<g id=\"edge6\" class=\"edge\">\n<title>Cast2/Cast (op#2)\\n input0 C\\n output0 C_cast&#45;&gt;C_cast0</title>\n<path fill=\"none\" stroke=\"#000000\" d=\"M291.2977,-1509.9279C295.8742,-1500.827 300.7013,-1491.2277 305.0146,-1482.6502\"/>\n<polygon fill=\"#000000\" stroke=\"#000000\" points=\"308.2596,-1483.9877 309.6253,-1473.4813 302.0057,-1480.8429 308.2596,-1483.9877\"/>\n</g>\n<!-- C0 -->\n<g id=\"node8\" class=\"node\">\n<title>C0</title>\n<polygon fill=\"none\" stroke=\"#000000\" points=\"299.8528,-1630.6286 299.8528,-1645.5403 284.0366,-1656.0845 261.669,-1656.0845 245.8528,-1645.5403 245.8528,-1630.6286 261.669,-1620.0845 284.0366,-1620.0845 299.8528,-1630.6286\"/>\n<text text-anchor=\"middle\" x=\"272.8528\" y=\"-1634.3845\" font-family=\"Times,serif\" font-size=\"14.00\" fill=\"#000000\">C</text>\n</g>\n<!-- C0&#45;&gt;Cast2/Cast (op#2)\\n input0 C\\n output0 C_cast -->\n<g id=\"edge5\" class=\"edge\">\n<title>C0&#45;&gt;Cast2/Cast (op#2)\\n input0 C\\n output0 C_cast</title>\n<path fill=\"none\" stroke=\"#000000\" d=\"M272.8528,-1620.0116C272.8528,-1612.5968 272.8528,-1603.628 272.8528,-1594.5435\"/>\n<polygon fill=\"#000000\" stroke=\"#000000\" points=\"276.3529,-1594.3141 272.8528,-1584.3141 269.3529,-1594.3141 276.3529,-1594.3141\"/>\n</g>\n<!-- C_cast0&#45;&gt;Concat/Concat (op#15)\\n input0 A_cast\\n input1 B_cast\\n input2 C_cast\\n input3 D_cast\\n input4 E_cast\\n input5 F_cast\\n input6 G_cast\\n input7 H_cast\\n input8 I_cast\\n input9 J_cast\\n input10 K_cast\\n input11 L_cast\\n input12 M_cast\\n input13 N_cast\\n input14 O_cast\\n output0 merged_columns -->\n<g id=\"edge33\" class=\"edge\">\n<title>C_cast0&#45;&gt;Concat/Concat (op#15)\\n input0 A_cast\\n input1 B_cast\\n input2 C_cast\\n input3 D_cast\\n input4 E_cast\\n input5 F_cast\\n input6 G_cast\\n input7 H_cast\\n input8 I_cast\\n input9 J_cast\\n input10 K_cast\\n input11 L_cast\\n input12 M_cast\\n input13 N_cast\\n input14 O_cast\\n output0 merged_columns</title>\n<path fill=\"none\" stroke=\"#000000\" d=\"M356.0977,-1446.8709C500.4146,-1414.8639 1026.9108,-1298.096 1272.7634,-1243.5701\"/>\n<polygon fill=\"#000000\" stroke=\"#000000\" points=\"1273.8185,-1246.9212 1282.8234,-1241.339 1272.3028,-1240.0873 1273.8185,-1246.9212\"/>\n</g>\n<!-- Cast3/Cast (op#3)\\n input0 D\\n output0 D_cast -->\n<g id=\"node10\" class=\"node\">\n<title>Cast3/Cast (op#3)\\n input0 D\\n output0 D_cast</title>\n<g id=\"a_node10\"><a xlink:href=\"javascript:alert('')\" xlink:title=\"Cast3/Cast (op#3)\\n input0 D\\n output0 D_cast\">\n<ellipse fill=\"#ffff00\" stroke=\"#ffff00\" cx=\"460.8528\" cy=\"-1546.6078\" rx=\"84.7059\" ry=\"37.4533\"/>\n<text text-anchor=\"middle\" x=\"460.8528\" y=\"-1557.9078\" font-family=\"Times,serif\" font-size=\"14.00\" fill=\"#000000\">Cast3/Cast (op#3)</text>\n<text text-anchor=\"middle\" x=\"460.8528\" y=\"-1542.9078\" font-family=\"Times,serif\" font-size=\"14.00\" fill=\"#000000\"> input0 D</text>\n<text text-anchor=\"middle\" x=\"460.8528\" y=\"-1527.9078\" font-family=\"Times,serif\" font-size=\"14.00\" fill=\"#000000\"> output0 D_cast</text>\n</a>\n</g>\n</g>\n<!-- D_cast0 -->\n<g id=\"node12\" class=\"node\">\n<title>D_cast0</title>\n<polygon fill=\"none\" stroke=\"#000000\" points=\"546.1443,-1447.6753 546.1443,-1462.587 523.1279,-1473.1312 490.5778,-1473.1312 467.5614,-1462.587 467.5614,-1447.6753 490.5778,-1437.1312 523.1279,-1437.1312 546.1443,-1447.6753\"/>\n<text text-anchor=\"middle\" x=\"506.8528\" y=\"-1451.4312\" font-family=\"Times,serif\" font-size=\"14.00\" fill=\"#000000\">D_cast</text>\n</g>\n<!-- Cast3/Cast (op#3)\\n input0 D\\n output0 D_cast&#45;&gt;D_cast0 -->\n<g id=\"edge8\" class=\"edge\">\n<title>Cast3/Cast (op#3)\\n input0 D\\n output0 D_cast&#45;&gt;D_cast0</title>\n<path fill=\"none\" stroke=\"#000000\" d=\"M479.2977,-1509.9279C483.8742,-1500.827 488.7013,-1491.2277 493.0146,-1482.6502\"/>\n<polygon fill=\"#000000\" stroke=\"#000000\" points=\"496.2596,-1483.9877 497.6253,-1473.4813 490.0057,-1480.8429 496.2596,-1483.9877\"/>\n</g>\n<!-- D0 -->\n<g id=\"node11\" class=\"node\">\n<title>D0</title>\n<polygon fill=\"none\" stroke=\"#000000\" points=\"487.8528,-1630.6286 487.8528,-1645.5403 472.0366,-1656.0845 449.669,-1656.0845 433.8528,-1645.5403 433.8528,-1630.6286 449.669,-1620.0845 472.0366,-1620.0845 487.8528,-1630.6286\"/>\n<text text-anchor=\"middle\" x=\"460.8528\" y=\"-1634.3845\" font-family=\"Times,serif\" font-size=\"14.00\" fill=\"#000000\">D</text>\n</g>\n<!-- D0&#45;&gt;Cast3/Cast (op#3)\\n input0 D\\n output0 D_cast -->\n<g id=\"edge7\" class=\"edge\">\n<title>D0&#45;&gt;Cast3/Cast (op#3)\\n input0 D\\n output0 D_cast</title>\n<path fill=\"none\" stroke=\"#000000\" d=\"M460.8528,-1620.0116C460.8528,-1612.5968 460.8528,-1603.628 460.8528,-1594.5435\"/>\n<polygon fill=\"#000000\" stroke=\"#000000\" points=\"464.3529,-1594.3141 460.8528,-1584.3141 457.3529,-1594.3141 464.3529,-1594.3141\"/>\n</g>\n<!-- D_cast0&#45;&gt;Concat/Concat (op#15)\\n input0 A_cast\\n input1 B_cast\\n input2 C_cast\\n input3 D_cast\\n input4 E_cast\\n input5 F_cast\\n input6 G_cast\\n input7 H_cast\\n input8 I_cast\\n input9 J_cast\\n input10 K_cast\\n input11 L_cast\\n input12 M_cast\\n input13 N_cast\\n input14 O_cast\\n output0 merged_columns -->\n<g id=\"edge34\" class=\"edge\">\n<title>D_cast0&#45;&gt;Concat/Concat (op#15)\\n input0 A_cast\\n input1 B_cast\\n input2 C_cast\\n input3 D_cast\\n input4 E_cast\\n input5 F_cast\\n input6 G_cast\\n input7 H_cast\\n input8 I_cast\\n input9 J_cast\\n input10 K_cast\\n input11 L_cast\\n input12 M_cast\\n input13 N_cast\\n input14 O_cast\\n output0 merged_columns</title>\n<path fill=\"none\" stroke=\"#000000\" d=\"M541.8987,-1445.7241C662.6564,-1413.3101 1065.443,-1305.1934 1273.7071,-1249.2908\"/>\n<polygon fill=\"#000000\" stroke=\"#000000\" points=\"1274.7248,-1252.6416 1283.4755,-1246.6687 1272.91,-1245.8809 1274.7248,-1252.6416\"/>\n</g>\n<!-- Cast4/Cast (op#4)\\n input0 E\\n output0 E_cast -->\n<g id=\"node13\" class=\"node\">\n<title>Cast4/Cast (op#4)\\n input0 E\\n output0 E_cast</title>\n<g id=\"a_node13\"><a xlink:href=\"javascript:alert('')\" xlink:title=\"Cast4/Cast (op#4)\\n input0 E\\n output0 E_cast\">\n<ellipse fill=\"#ffff00\" stroke=\"#ffff00\" cx=\"648.8528\" cy=\"-1546.6078\" rx=\"84.7059\" ry=\"37.4533\"/>\n<text text-anchor=\"middle\" x=\"648.8528\" y=\"-1557.9078\" font-family=\"Times,serif\" font-size=\"14.00\" fill=\"#000000\">Cast4/Cast (op#4)</text>\n<text text-anchor=\"middle\" x=\"648.8528\" y=\"-1542.9078\" font-family=\"Times,serif\" font-size=\"14.00\" fill=\"#000000\"> input0 E</text>\n<text text-anchor=\"middle\" x=\"648.8528\" y=\"-1527.9078\" font-family=\"Times,serif\" font-size=\"14.00\" fill=\"#000000\"> output0 E_cast</text>\n</a>\n</g>\n</g>\n<!-- E_cast0 -->\n<g id=\"node15\" class=\"node\">\n<title>E_cast0</title>\n<polygon fill=\"none\" stroke=\"#000000\" points=\"733.83,-1447.6753 733.83,-1462.587 711.5835,-1473.1312 680.1221,-1473.1312 657.8756,-1462.587 657.8756,-1447.6753 680.1221,-1437.1312 711.5835,-1437.1312 733.83,-1447.6753\"/>\n<text text-anchor=\"middle\" x=\"695.8528\" y=\"-1451.4312\" font-family=\"Times,serif\" font-size=\"14.00\" fill=\"#000000\">E_cast</text>\n</g>\n<!-- Cast4/Cast (op#4)\\n input0 E\\n output0 E_cast&#45;&gt;E_cast0 -->\n<g id=\"edge10\" class=\"edge\">\n<title>Cast4/Cast (op#4)\\n input0 E\\n output0 E_cast&#45;&gt;E_cast0</title>\n<path fill=\"none\" stroke=\"#000000\" d=\"M667.6987,-1509.9279C672.3747,-1500.827 677.3067,-1491.2277 681.7137,-1482.6502\"/>\n<polygon fill=\"#000000\" stroke=\"#000000\" points=\"684.9677,-1483.9755 686.4247,-1473.4813 678.7415,-1480.7764 684.9677,-1483.9755\"/>\n</g>\n<!-- E0 -->\n<g id=\"node14\" class=\"node\">\n<title>E0</title>\n<polygon fill=\"none\" stroke=\"#000000\" points=\"675.8528,-1630.6286 675.8528,-1645.5403 660.0366,-1656.0845 637.669,-1656.0845 621.8528,-1645.5403 621.8528,-1630.6286 637.669,-1620.0845 660.0366,-1620.0845 675.8528,-1630.6286\"/>\n<text text-anchor=\"middle\" x=\"648.8528\" y=\"-1634.3845\" font-family=\"Times,serif\" font-size=\"14.00\" fill=\"#000000\">E</text>\n</g>\n<!-- E0&#45;&gt;Cast4/Cast (op#4)\\n input0 E\\n output0 E_cast -->\n<g id=\"edge9\" class=\"edge\">\n<title>E0&#45;&gt;Cast4/Cast (op#4)\\n input0 E\\n output0 E_cast</title>\n<path fill=\"none\" stroke=\"#000000\" d=\"M648.8528,-1620.0116C648.8528,-1612.5968 648.8528,-1603.628 648.8528,-1594.5435\"/>\n<polygon fill=\"#000000\" stroke=\"#000000\" points=\"652.3529,-1594.3141 648.8528,-1584.3141 645.3529,-1594.3141 652.3529,-1594.3141\"/>\n</g>\n<!-- E_cast0&#45;&gt;Concat/Concat (op#15)\\n input0 A_cast\\n input1 B_cast\\n input2 C_cast\\n input3 D_cast\\n input4 E_cast\\n input5 F_cast\\n input6 G_cast\\n input7 H_cast\\n input8 I_cast\\n input9 J_cast\\n input10 K_cast\\n input11 L_cast\\n input12 M_cast\\n input13 N_cast\\n input14 O_cast\\n output0 merged_columns -->\n<g id=\"edge35\" class=\"edge\">\n<title>E_cast0&#45;&gt;Concat/Concat (op#15)\\n input0 A_cast\\n input1 B_cast\\n input2 C_cast\\n input3 D_cast\\n input4 E_cast\\n input5 F_cast\\n input6 G_cast\\n input7 H_cast\\n input8 I_cast\\n input9 J_cast\\n input10 K_cast\\n input11 L_cast\\n input12 M_cast\\n input13 N_cast\\n input14 O_cast\\n output0 merged_columns</title>\n<path fill=\"none\" stroke=\"#000000\" d=\"M727.5148,-1444.354C822.2832,-1412.0966 1107.4606,-1315.0274 1274.7395,-1258.0887\"/>\n<polygon fill=\"#000000\" stroke=\"#000000\" points=\"1276.2546,-1261.2703 1284.5934,-1254.7346 1273.999,-1254.6437 1276.2546,-1261.2703\"/>\n</g>\n<!-- Cast5/Cast (op#5)\\n input0 F\\n output0 F_cast -->\n<g id=\"node16\" class=\"node\">\n<title>Cast5/Cast (op#5)\\n input0 F\\n output0 F_cast</title>\n<g id=\"a_node16\"><a xlink:href=\"javascript:alert('')\" xlink:title=\"Cast5/Cast (op#5)\\n input0 F\\n output0 F_cast\">\n<ellipse fill=\"#ffff00\" stroke=\"#ffff00\" cx=\"836.8528\" cy=\"-1546.6078\" rx=\"84.7059\" ry=\"37.4533\"/>\n<text text-anchor=\"middle\" x=\"836.8528\" y=\"-1557.9078\" font-family=\"Times,serif\" font-size=\"14.00\" fill=\"#000000\">Cast5/Cast (op#5)</text>\n<text text-anchor=\"middle\" x=\"836.8528\" y=\"-1542.9078\" font-family=\"Times,serif\" font-size=\"14.00\" fill=\"#000000\"> input0 F</text>\n<text text-anchor=\"middle\" x=\"836.8528\" y=\"-1527.9078\" font-family=\"Times,serif\" font-size=\"14.00\" fill=\"#000000\"> output0 F_cast</text>\n</a>\n</g>\n</g>\n<!-- F_cast0 -->\n<g id=\"node18\" class=\"node\">\n<title>F_cast0</title>\n<polygon fill=\"none\" stroke=\"#000000\" points=\"919.9243,-1447.6753 919.9243,-1462.587 898.2083,-1473.1312 867.4973,-1473.1312 845.7814,-1462.587 845.7814,-1447.6753 867.4973,-1437.1312 898.2083,-1437.1312 919.9243,-1447.6753\"/>\n<text text-anchor=\"middle\" x=\"882.8528\" y=\"-1451.4312\" font-family=\"Times,serif\" font-size=\"14.00\" fill=\"#000000\">F_cast</text>\n</g>\n<!-- Cast5/Cast (op#5)\\n input0 F\\n output0 F_cast&#45;&gt;F_cast0 -->\n<g id=\"edge12\" class=\"edge\">\n<title>Cast5/Cast (op#5)\\n input0 F\\n output0 F_cast&#45;&gt;F_cast0</title>\n<path fill=\"none\" stroke=\"#000000\" d=\"M855.2977,-1509.9279C859.8742,-1500.827 864.7013,-1491.2277 869.0146,-1482.6502\"/>\n<polygon fill=\"#000000\" stroke=\"#000000\" points=\"872.2596,-1483.9877 873.6253,-1473.4813 866.0057,-1480.8429 872.2596,-1483.9877\"/>\n</g>\n<!-- F0 -->\n<g id=\"node17\" class=\"node\">\n<title>F0</title>\n<polygon fill=\"none\" stroke=\"#000000\" points=\"863.8528,-1630.6286 863.8528,-1645.5403 848.0366,-1656.0845 825.669,-1656.0845 809.8528,-1645.5403 809.8528,-1630.6286 825.669,-1620.0845 848.0366,-1620.0845 863.8528,-1630.6286\"/>\n<text text-anchor=\"middle\" x=\"836.8528\" y=\"-1634.3845\" font-family=\"Times,serif\" font-size=\"14.00\" fill=\"#000000\">F</text>\n</g>\n<!-- F0&#45;&gt;Cast5/Cast (op#5)\\n input0 F\\n output0 F_cast -->\n<g id=\"edge11\" class=\"edge\">\n<title>F0&#45;&gt;Cast5/Cast (op#5)\\n input0 F\\n output0 F_cast</title>\n<path fill=\"none\" stroke=\"#000000\" d=\"M836.8528,-1620.0116C836.8528,-1612.5968 836.8528,-1603.628 836.8528,-1594.5435\"/>\n<polygon fill=\"#000000\" stroke=\"#000000\" points=\"840.3529,-1594.3141 836.8528,-1584.3141 833.3529,-1594.3141 840.3529,-1594.3141\"/>\n</g>\n<!-- F_cast0&#45;&gt;Concat/Concat (op#15)\\n input0 A_cast\\n input1 B_cast\\n input2 C_cast\\n input3 D_cast\\n input4 E_cast\\n input5 F_cast\\n input6 G_cast\\n input7 H_cast\\n input8 I_cast\\n input9 J_cast\\n input10 K_cast\\n input11 L_cast\\n input12 M_cast\\n input13 N_cast\\n input14 O_cast\\n output0 merged_columns -->\n<g id=\"edge36\" class=\"edge\">\n<title>F_cast0&#45;&gt;Concat/Concat (op#15)\\n input0 A_cast\\n input1 B_cast\\n input2 C_cast\\n input3 D_cast\\n input4 E_cast\\n input5 F_cast\\n input6 G_cast\\n input7 H_cast\\n input8 I_cast\\n input9 J_cast\\n input10 K_cast\\n input11 L_cast\\n input12 M_cast\\n input13 N_cast\\n input14 O_cast\\n output0 merged_columns</title>\n<path fill=\"none\" stroke=\"#000000\" d=\"M909.9734,-1442.5673C977.2799,-1411.3868 1155.3359,-1328.9004 1277.4243,-1272.3417\"/>\n<polygon fill=\"#000000\" stroke=\"#000000\" points=\"1279.247,-1275.3547 1286.8494,-1267.9754 1276.3045,-1269.0031 1279.247,-1275.3547\"/>\n</g>\n<!-- Cast6/Cast (op#6)\\n input0 G\\n output0 G_cast -->\n<g id=\"node19\" class=\"node\">\n<title>Cast6/Cast (op#6)\\n input0 G\\n output0 G_cast</title>\n<g id=\"a_node19\"><a xlink:href=\"javascript:alert('')\" xlink:title=\"Cast6/Cast (op#6)\\n input0 G\\n output0 G_cast\">\n<ellipse fill=\"#ffff00\" stroke=\"#ffff00\" cx=\"1024.8528\" cy=\"-1546.6078\" rx=\"84.7059\" ry=\"37.4533\"/>\n<text text-anchor=\"middle\" x=\"1024.8528\" y=\"-1557.9078\" font-family=\"Times,serif\" font-size=\"14.00\" fill=\"#000000\">Cast6/Cast (op#6)</text>\n<text text-anchor=\"middle\" x=\"1024.8528\" y=\"-1542.9078\" font-family=\"Times,serif\" font-size=\"14.00\" fill=\"#000000\"> input0 G</text>\n<text text-anchor=\"middle\" x=\"1024.8528\" y=\"-1527.9078\" font-family=\"Times,serif\" font-size=\"14.00\" fill=\"#000000\"> output0 G_cast</text>\n</a>\n</g>\n</g>\n<!-- G_cast0 -->\n<g id=\"node21\" class=\"node\">\n<title>G_cast0</title>\n<polygon fill=\"none\" stroke=\"#000000\" points=\"1109.1443,-1447.6753 1109.1443,-1462.587 1086.1279,-1473.1312 1053.5778,-1473.1312 1030.5614,-1462.587 1030.5614,-1447.6753 1053.5778,-1437.1312 1086.1279,-1437.1312 1109.1443,-1447.6753\"/>\n<text text-anchor=\"middle\" x=\"1069.8528\" y=\"-1451.4312\" font-family=\"Times,serif\" font-size=\"14.00\" fill=\"#000000\">G_cast</text>\n</g>\n<!-- Cast6/Cast (op#6)\\n input0 G\\n output0 G_cast&#45;&gt;G_cast0 -->\n<g id=\"edge14\" class=\"edge\">\n<title>Cast6/Cast (op#6)\\n input0 G\\n output0 G_cast&#45;&gt;G_cast0</title>\n<path fill=\"none\" stroke=\"#000000\" d=\"M1042.8967,-1509.9279C1047.3737,-1500.827 1052.0959,-1491.2277 1056.3154,-1482.6502\"/>\n<polygon fill=\"#000000\" stroke=\"#000000\" points=\"1059.5523,-1483.9993 1060.8259,-1473.4813 1053.2711,-1480.9094 1059.5523,-1483.9993\"/>\n</g>\n<!-- G0 -->\n<g id=\"node20\" class=\"node\">\n<title>G0</title>\n<polygon fill=\"none\" stroke=\"#000000\" points=\"1051.8528,-1630.6286 1051.8528,-1645.5403 1036.0366,-1656.0845 1013.669,-1656.0845 997.8528,-1645.5403 997.8528,-1630.6286 1013.669,-1620.0845 1036.0366,-1620.0845 1051.8528,-1630.6286\"/>\n<text text-anchor=\"middle\" x=\"1024.8528\" y=\"-1634.3845\" font-family=\"Times,serif\" font-size=\"14.00\" fill=\"#000000\">G</text>\n</g>\n<!-- G0&#45;&gt;Cast6/Cast (op#6)\\n input0 G\\n output0 G_cast -->\n<g id=\"edge13\" class=\"edge\">\n<title>G0&#45;&gt;Cast6/Cast (op#6)\\n input0 G\\n output0 G_cast</title>\n<path fill=\"none\" stroke=\"#000000\" d=\"M1024.8528,-1620.0116C1024.8528,-1612.5968 1024.8528,-1603.628 1024.8528,-1594.5435\"/>\n<polygon fill=\"#000000\" stroke=\"#000000\" points=\"1028.3529,-1594.3141 1024.8528,-1584.3141 1021.3529,-1594.3141 1028.3529,-1594.3141\"/>\n</g>\n<!-- G_cast0&#45;&gt;Concat/Concat (op#15)\\n input0 A_cast\\n input1 B_cast\\n input2 C_cast\\n input3 D_cast\\n input4 E_cast\\n input5 F_cast\\n input6 G_cast\\n input7 H_cast\\n input8 I_cast\\n input9 J_cast\\n input10 K_cast\\n input11 L_cast\\n input12 M_cast\\n input13 N_cast\\n input14 O_cast\\n output0 merged_columns -->\n<g id=\"edge37\" class=\"edge\">\n<title>G_cast0&#45;&gt;Concat/Concat (op#15)\\n input0 A_cast\\n input1 B_cast\\n input2 C_cast\\n input3 D_cast\\n input4 E_cast\\n input5 F_cast\\n input6 G_cast\\n input7 H_cast\\n input8 I_cast\\n input9 J_cast\\n input10 K_cast\\n input11 L_cast\\n input12 M_cast\\n input13 N_cast\\n input14 O_cast\\n output0 merged_columns</title>\n<path fill=\"none\" stroke=\"#000000\" d=\"M1091.5706,-1439.3861C1130.2687,-1411.3307 1213.7066,-1350.8398 1284.1746,-1299.7517\"/>\n<polygon fill=\"#000000\" stroke=\"#000000\" points=\"1286.6583,-1302.2742 1292.7001,-1293.5709 1282.5495,-1296.6068 1286.6583,-1302.2742\"/>\n</g>\n<!-- Cast7/Cast (op#7)\\n input0 H\\n output0 H_cast -->\n<g id=\"node22\" class=\"node\">\n<title>Cast7/Cast (op#7)\\n input0 H\\n output0 H_cast</title>\n<g id=\"a_node22\"><a xlink:href=\"javascript:alert('')\" xlink:title=\"Cast7/Cast (op#7)\\n input0 H\\n output0 H_cast\">\n<ellipse fill=\"#ffff00\" stroke=\"#ffff00\" cx=\"1212.8528\" cy=\"-1546.6078\" rx=\"84.7059\" ry=\"37.4533\"/>\n<text text-anchor=\"middle\" x=\"1212.8528\" y=\"-1557.9078\" font-family=\"Times,serif\" font-size=\"14.00\" fill=\"#000000\">Cast7/Cast (op#7)</text>\n<text text-anchor=\"middle\" x=\"1212.8528\" y=\"-1542.9078\" font-family=\"Times,serif\" font-size=\"14.00\" fill=\"#000000\"> input0 H</text>\n<text text-anchor=\"middle\" x=\"1212.8528\" y=\"-1527.9078\" font-family=\"Times,serif\" font-size=\"14.00\" fill=\"#000000\"> output0 H_cast</text>\n</a>\n</g>\n</g>\n<!-- H_cast0 -->\n<g id=\"node24\" class=\"node\">\n<title>H_cast0</title>\n<polygon fill=\"none\" stroke=\"#000000\" points=\"1299.1443,-1447.6753 1299.1443,-1462.587 1276.1279,-1473.1312 1243.5778,-1473.1312 1220.5614,-1462.587 1220.5614,-1447.6753 1243.5778,-1437.1312 1276.1279,-1437.1312 1299.1443,-1447.6753\"/>\n<text text-anchor=\"middle\" x=\"1259.8528\" y=\"-1451.4312\" font-family=\"Times,serif\" font-size=\"14.00\" fill=\"#000000\">H_cast</text>\n</g>\n<!-- Cast7/Cast (op#7)\\n input0 H\\n output0 H_cast&#45;&gt;H_cast0 -->\n<g id=\"edge16\" class=\"edge\">\n<title>Cast7/Cast (op#7)\\n input0 H\\n output0 H_cast&#45;&gt;H_cast0</title>\n<path fill=\"none\" stroke=\"#000000\" d=\"M1231.6987,-1509.9279C1236.3747,-1500.827 1241.3067,-1491.2277 1245.7137,-1482.6502\"/>\n<polygon fill=\"#000000\" stroke=\"#000000\" points=\"1248.9677,-1483.9755 1250.4247,-1473.4813 1242.7415,-1480.7764 1248.9677,-1483.9755\"/>\n</g>\n<!-- H0 -->\n<g id=\"node23\" class=\"node\">\n<title>H0</title>\n<polygon fill=\"none\" stroke=\"#000000\" points=\"1239.8528,-1630.6286 1239.8528,-1645.5403 1224.0366,-1656.0845 1201.669,-1656.0845 1185.8528,-1645.5403 1185.8528,-1630.6286 1201.669,-1620.0845 1224.0366,-1620.0845 1239.8528,-1630.6286\"/>\n<text text-anchor=\"middle\" x=\"1212.8528\" y=\"-1634.3845\" font-family=\"Times,serif\" font-size=\"14.00\" fill=\"#000000\">H</text>\n</g>\n<!-- H0&#45;&gt;Cast7/Cast (op#7)\\n input0 H\\n output0 H_cast -->\n<g id=\"edge15\" class=\"edge\">\n<title>H0&#45;&gt;Cast7/Cast (op#7)\\n input0 H\\n output0 H_cast</title>\n<path fill=\"none\" stroke=\"#000000\" d=\"M1212.8528,-1620.0116C1212.8528,-1612.5968 1212.8528,-1603.628 1212.8528,-1594.5435\"/>\n<polygon fill=\"#000000\" stroke=\"#000000\" points=\"1216.3529,-1594.3141 1212.8528,-1584.3141 1209.3529,-1594.3141 1216.3529,-1594.3141\"/>\n</g>\n<!-- H_cast0&#45;&gt;Concat/Concat (op#15)\\n input0 A_cast\\n input1 B_cast\\n input2 C_cast\\n input3 D_cast\\n input4 E_cast\\n input5 F_cast\\n input6 G_cast\\n input7 H_cast\\n input8 I_cast\\n input9 J_cast\\n input10 K_cast\\n input11 L_cast\\n input12 M_cast\\n input13 N_cast\\n input14 O_cast\\n output0 merged_columns -->\n<g id=\"edge38\" class=\"edge\">\n<title>H_cast0&#45;&gt;Concat/Concat (op#15)\\n input0 A_cast\\n input1 B_cast\\n input2 C_cast\\n input3 D_cast\\n input4 E_cast\\n input5 F_cast\\n input6 G_cast\\n input7 H_cast\\n input8 I_cast\\n input9 J_cast\\n input10 K_cast\\n input11 L_cast\\n input12 M_cast\\n input13 N_cast\\n input14 O_cast\\n output0 merged_columns</title>\n<path fill=\"none\" stroke=\"#000000\" d=\"M1270.4507,-1437.0945C1280.6955,-1419.6589 1297.2672,-1391.4554 1315.2125,-1360.9141\"/>\n<polygon fill=\"#000000\" stroke=\"#000000\" points=\"1318.2579,-1362.6399 1320.3063,-1352.2449 1312.2226,-1359.0936 1318.2579,-1362.6399\"/>\n</g>\n<!-- Cast8/Cast (op#8)\\n input0 I\\n output0 I_cast -->\n<g id=\"node25\" class=\"node\">\n<title>Cast8/Cast (op#8)\\n input0 I\\n output0 I_cast</title>\n<g id=\"a_node25\"><a xlink:href=\"javascript:alert('')\" xlink:title=\"Cast8/Cast (op#8)\\n input0 I\\n output0 I_cast\">\n<ellipse fill=\"#ffff00\" stroke=\"#ffff00\" cx=\"1400.8528\" cy=\"-1546.6078\" rx=\"84.7059\" ry=\"37.4533\"/>\n<text text-anchor=\"middle\" x=\"1400.8528\" y=\"-1557.9078\" font-family=\"Times,serif\" font-size=\"14.00\" fill=\"#000000\">Cast8/Cast (op#8)</text>\n<text text-anchor=\"middle\" x=\"1400.8528\" y=\"-1542.9078\" font-family=\"Times,serif\" font-size=\"14.00\" fill=\"#000000\"> input0 I</text>\n<text text-anchor=\"middle\" x=\"1400.8528\" y=\"-1527.9078\" font-family=\"Times,serif\" font-size=\"14.00\" fill=\"#000000\"> output0 I_cast</text>\n</a>\n</g>\n</g>\n<!-- I_cast0 -->\n<g id=\"node27\" class=\"node\">\n<title>I_cast0</title>\n<polygon fill=\"none\" stroke=\"#000000\" points=\"1436.2029,-1447.6753 1436.2029,-1462.587 1415.4953,-1473.1312 1386.2103,-1473.1312 1365.5027,-1462.587 1365.5027,-1447.6753 1386.2103,-1437.1312 1415.4953,-1437.1312 1436.2029,-1447.6753\"/>\n<text text-anchor=\"middle\" x=\"1400.8528\" y=\"-1451.4312\" font-family=\"Times,serif\" font-size=\"14.00\" fill=\"#000000\">I_cast</text>\n</g>\n<!-- Cast8/Cast (op#8)\\n input0 I\\n output0 I_cast&#45;&gt;I_cast0 -->\n<g id=\"edge18\" class=\"edge\">\n<title>Cast8/Cast (op#8)\\n input0 I\\n output0 I_cast&#45;&gt;I_cast0</title>\n<path fill=\"none\" stroke=\"#000000\" d=\"M1400.8528,-1508.8726C1400.8528,-1500.4814 1400.8528,-1491.7193 1400.8528,-1483.7638\"/>\n<polygon fill=\"#000000\" stroke=\"#000000\" points=\"1404.3529,-1483.5259 1400.8528,-1473.5259 1397.3529,-1483.526 1404.3529,-1483.5259\"/>\n</g>\n<!-- I0 -->\n<g id=\"node26\" class=\"node\">\n<title>I0</title>\n<polygon fill=\"none\" stroke=\"#000000\" points=\"1427.8528,-1630.6286 1427.8528,-1645.5403 1412.0366,-1656.0845 1389.669,-1656.0845 1373.8528,-1645.5403 1373.8528,-1630.6286 1389.669,-1620.0845 1412.0366,-1620.0845 1427.8528,-1630.6286\"/>\n<text text-anchor=\"middle\" x=\"1400.8528\" y=\"-1634.3845\" font-family=\"Times,serif\" font-size=\"14.00\" fill=\"#000000\">I</text>\n</g>\n<!-- I0&#45;&gt;Cast8/Cast (op#8)\\n input0 I\\n output0 I_cast -->\n<g id=\"edge17\" class=\"edge\">\n<title>I0&#45;&gt;Cast8/Cast (op#8)\\n input0 I\\n output0 I_cast</title>\n<path fill=\"none\" stroke=\"#000000\" d=\"M1400.8528,-1620.0116C1400.8528,-1612.5968 1400.8528,-1603.628 1400.8528,-1594.5435\"/>\n<polygon fill=\"#000000\" stroke=\"#000000\" points=\"1404.3529,-1594.3141 1400.8528,-1584.3141 1397.3529,-1594.3141 1404.3529,-1594.3141\"/>\n</g>\n<!-- I_cast0&#45;&gt;Concat/Concat (op#15)\\n input0 A_cast\\n input1 B_cast\\n input2 C_cast\\n input3 D_cast\\n input4 E_cast\\n input5 F_cast\\n input6 G_cast\\n input7 H_cast\\n input8 I_cast\\n input9 J_cast\\n input10 K_cast\\n input11 L_cast\\n input12 M_cast\\n input13 N_cast\\n input14 O_cast\\n output0 merged_columns -->\n<g id=\"edge39\" class=\"edge\">\n<title>I_cast0&#45;&gt;Concat/Concat (op#15)\\n input0 A_cast\\n input1 B_cast\\n input2 C_cast\\n input3 D_cast\\n input4 E_cast\\n input5 F_cast\\n input6 G_cast\\n input7 H_cast\\n input8 I_cast\\n input9 J_cast\\n input10 K_cast\\n input11 L_cast\\n input12 M_cast\\n input13 N_cast\\n input14 O_cast\\n output0 merged_columns</title>\n<path fill=\"none\" stroke=\"#000000\" d=\"M1400.8528,-1437.0945C1400.8528,-1430.1458 1400.8528,-1421.4868 1400.8528,-1411.6512\"/>\n<polygon fill=\"#000000\" stroke=\"#000000\" points=\"1404.3529,-1411.4431 1400.8528,-1401.4432 1397.3529,-1411.4432 1404.3529,-1411.4431\"/>\n</g>\n<!-- Cast9/Cast (op#9)\\n input0 J\\n output0 J_cast -->\n<g id=\"node28\" class=\"node\">\n<title>Cast9/Cast (op#9)\\n input0 J\\n output0 J_cast</title>\n<g id=\"a_node28\"><a xlink:href=\"javascript:alert('')\" xlink:title=\"Cast9/Cast (op#9)\\n input0 J\\n output0 J_cast\">\n<ellipse fill=\"#ffff00\" stroke=\"#ffff00\" cx=\"1588.8528\" cy=\"-1546.6078\" rx=\"84.7059\" ry=\"37.4533\"/>\n<text text-anchor=\"middle\" x=\"1588.8528\" y=\"-1557.9078\" font-family=\"Times,serif\" font-size=\"14.00\" fill=\"#000000\">Cast9/Cast (op#9)</text>\n<text text-anchor=\"middle\" x=\"1588.8528\" y=\"-1542.9078\" font-family=\"Times,serif\" font-size=\"14.00\" fill=\"#000000\"> input0 J</text>\n<text text-anchor=\"middle\" x=\"1588.8528\" y=\"-1527.9078\" font-family=\"Times,serif\" font-size=\"14.00\" fill=\"#000000\"> output0 J_cast</text>\n</a>\n</g>\n</g>\n<!-- J_cast0 -->\n<g id=\"node30\" class=\"node\">\n<title>J_cast0</title>\n<polygon fill=\"none\" stroke=\"#000000\" points=\"1574.2029,-1447.6753 1574.2029,-1462.587 1553.4953,-1473.1312 1524.2103,-1473.1312 1503.5027,-1462.587 1503.5027,-1447.6753 1524.2103,-1437.1312 1553.4953,-1437.1312 1574.2029,-1447.6753\"/>\n<text text-anchor=\"middle\" x=\"1538.8528\" y=\"-1451.4312\" font-family=\"Times,serif\" font-size=\"14.00\" fill=\"#000000\">J_cast</text>\n</g>\n<!-- Cast9/Cast (op#9)\\n input0 J\\n output0 J_cast&#45;&gt;J_cast0 -->\n<g id=\"edge20\" class=\"edge\">\n<title>Cast9/Cast (op#9)\\n input0 J\\n output0 J_cast&#45;&gt;J_cast0</title>\n<path fill=\"none\" stroke=\"#000000\" d=\"M1568.804,-1509.9279C1563.7761,-1500.7291 1558.4698,-1491.0212 1553.7434,-1482.3739\"/>\n<polygon fill=\"#000000\" stroke=\"#000000\" points=\"1556.7502,-1480.5774 1548.8828,-1473.4813 1550.6078,-1483.9348 1556.7502,-1480.5774\"/>\n</g>\n<!-- J0 -->\n<g id=\"node29\" class=\"node\">\n<title>J0</title>\n<polygon fill=\"none\" stroke=\"#000000\" points=\"1615.8528,-1630.6286 1615.8528,-1645.5403 1600.0366,-1656.0845 1577.669,-1656.0845 1561.8528,-1645.5403 1561.8528,-1630.6286 1577.669,-1620.0845 1600.0366,-1620.0845 1615.8528,-1630.6286\"/>\n<text text-anchor=\"middle\" x=\"1588.8528\" y=\"-1634.3845\" font-family=\"Times,serif\" font-size=\"14.00\" fill=\"#000000\">J</text>\n</g>\n<!-- J0&#45;&gt;Cast9/Cast (op#9)\\n input0 J\\n output0 J_cast -->\n<g id=\"edge19\" class=\"edge\">\n<title>J0&#45;&gt;Cast9/Cast (op#9)\\n input0 J\\n output0 J_cast</title>\n<path fill=\"none\" stroke=\"#000000\" d=\"M1588.8528,-1620.0116C1588.8528,-1612.5968 1588.8528,-1603.628 1588.8528,-1594.5435\"/>\n<polygon fill=\"#000000\" stroke=\"#000000\" points=\"1592.3529,-1594.3141 1588.8528,-1584.3141 1585.3529,-1594.3141 1592.3529,-1594.3141\"/>\n</g>\n<!-- J_cast0&#45;&gt;Concat/Concat (op#15)\\n input0 A_cast\\n input1 B_cast\\n input2 C_cast\\n input3 D_cast\\n input4 E_cast\\n input5 F_cast\\n input6 G_cast\\n input7 H_cast\\n input8 I_cast\\n input9 J_cast\\n input10 K_cast\\n input11 L_cast\\n input12 M_cast\\n input13 N_cast\\n input14 O_cast\\n output0 merged_columns -->\n<g id=\"edge40\" class=\"edge\">\n<title>J_cast0&#45;&gt;Concat/Concat (op#15)\\n input0 A_cast\\n input1 B_cast\\n input2 C_cast\\n input3 D_cast\\n input4 E_cast\\n input5 F_cast\\n input6 G_cast\\n input7 H_cast\\n input8 I_cast\\n input9 J_cast\\n input10 K_cast\\n input11 L_cast\\n input12 M_cast\\n input13 N_cast\\n input14 O_cast\\n output0 merged_columns</title>\n<path fill=\"none\" stroke=\"#000000\" d=\"M1528.4804,-1437.0945C1518.6106,-1419.9318 1502.7408,-1392.3357 1485.4948,-1362.3466\"/>\n<polygon fill=\"#000000\" stroke=\"#000000\" points=\"1488.3712,-1360.3274 1480.3518,-1353.4034 1482.303,-1363.8171 1488.3712,-1360.3274\"/>\n</g>\n<!-- Cast10/Cast (op#10)\\n input0 K\\n output0 K_cast -->\n<g id=\"node31\" class=\"node\">\n<title>Cast10/Cast (op#10)\\n input0 K\\n output0 K_cast</title>\n<g id=\"a_node31\"><a xlink:href=\"javascript:alert('')\" xlink:title=\"Cast10/Cast (op#10)\\n input0 K\\n output0 K_cast\">\n<ellipse fill=\"#ffff00\" stroke=\"#ffff00\" cx=\"1786.8528\" cy=\"-1546.6078\" rx=\"95.4188\" ry=\"37.4533\"/>\n<text text-anchor=\"middle\" x=\"1786.8528\" y=\"-1557.9078\" font-family=\"Times,serif\" font-size=\"14.00\" fill=\"#000000\">Cast10/Cast (op#10)</text>\n<text text-anchor=\"middle\" x=\"1786.8528\" y=\"-1542.9078\" font-family=\"Times,serif\" font-size=\"14.00\" fill=\"#000000\"> input0 K</text>\n<text text-anchor=\"middle\" x=\"1786.8528\" y=\"-1527.9078\" font-family=\"Times,serif\" font-size=\"14.00\" fill=\"#000000\"> output0 K_cast</text>\n</a>\n</g>\n</g>\n<!-- K_cast0 -->\n<g id=\"node33\" class=\"node\">\n<title>K_cast0</title>\n<polygon fill=\"none\" stroke=\"#000000\" points=\"1748.1443,-1447.6753 1748.1443,-1462.587 1725.1279,-1473.1312 1692.5778,-1473.1312 1669.5614,-1462.587 1669.5614,-1447.6753 1692.5778,-1437.1312 1725.1279,-1437.1312 1748.1443,-1447.6753\"/>\n<text text-anchor=\"middle\" x=\"1708.8528\" y=\"-1451.4312\" font-family=\"Times,serif\" font-size=\"14.00\" fill=\"#000000\">K_cast</text>\n</g>\n<!-- Cast10/Cast (op#10)\\n input0 K\\n output0 K_cast&#45;&gt;K_cast0 -->\n<g id=\"edge22\" class=\"edge\">\n<title>Cast10/Cast (op#10)\\n input0 K\\n output0 K_cast&#45;&gt;K_cast0</title>\n<path fill=\"none\" stroke=\"#000000\" d=\"M1756.4726,-1510.9786C1748.0031,-1501.0457 1738.9626,-1490.4432 1731.0594,-1481.1745\"/>\n<polygon fill=\"#000000\" stroke=\"#000000\" points=\"1733.6014,-1478.7614 1724.4498,-1473.423 1728.2749,-1483.3033 1733.6014,-1478.7614\"/>\n</g>\n<!-- K0 -->\n<g id=\"node32\" class=\"node\">\n<title>K0</title>\n<polygon fill=\"none\" stroke=\"#000000\" points=\"1813.8528,-1630.6286 1813.8528,-1645.5403 1798.0366,-1656.0845 1775.669,-1656.0845 1759.8528,-1645.5403 1759.8528,-1630.6286 1775.669,-1620.0845 1798.0366,-1620.0845 1813.8528,-1630.6286\"/>\n<text text-anchor=\"middle\" x=\"1786.8528\" y=\"-1634.3845\" font-family=\"Times,serif\" font-size=\"14.00\" fill=\"#000000\">K</text>\n</g>\n<!-- K0&#45;&gt;Cast10/Cast (op#10)\\n input0 K\\n output0 K_cast -->\n<g id=\"edge21\" class=\"edge\">\n<title>K0&#45;&gt;Cast10/Cast (op#10)\\n input0 K\\n output0 K_cast</title>\n<path fill=\"none\" stroke=\"#000000\" d=\"M1786.8528,-1620.0116C1786.8528,-1612.5968 1786.8528,-1603.628 1786.8528,-1594.5435\"/>\n<polygon fill=\"#000000\" stroke=\"#000000\" points=\"1790.3529,-1594.3141 1786.8528,-1584.3141 1783.3529,-1594.3141 1790.3529,-1594.3141\"/>\n</g>\n<!-- K_cast0&#45;&gt;Concat/Concat (op#15)\\n input0 A_cast\\n input1 B_cast\\n input2 C_cast\\n input3 D_cast\\n input4 E_cast\\n input5 F_cast\\n input6 G_cast\\n input7 H_cast\\n input8 I_cast\\n input9 J_cast\\n input10 K_cast\\n input11 L_cast\\n input12 M_cast\\n input13 N_cast\\n input14 O_cast\\n output0 merged_columns -->\n<g id=\"edge41\" class=\"edge\">\n<title>K_cast0&#45;&gt;Concat/Concat (op#15)\\n input0 A_cast\\n input1 B_cast\\n input2 C_cast\\n input3 D_cast\\n input4 E_cast\\n input5 F_cast\\n input6 G_cast\\n input7 H_cast\\n input8 I_cast\\n input9 J_cast\\n input10 K_cast\\n input11 L_cast\\n input12 M_cast\\n input13 N_cast\\n input14 O_cast\\n output0 merged_columns</title>\n<path fill=\"none\" stroke=\"#000000\" d=\"M1688.1658,-1439.0135C1653.0485,-1411.6529 1579.349,-1354.2321 1515.3885,-1304.3991\"/>\n<polygon fill=\"#000000\" stroke=\"#000000\" points=\"1517.2785,-1301.4348 1507.2389,-1298.0497 1512.9762,-1306.9567 1517.2785,-1301.4348\"/>\n</g>\n<!-- Cast11/Cast (op#11)\\n input0 L\\n output0 L_cast -->\n<g id=\"node34\" class=\"node\">\n<title>Cast11/Cast (op#11)\\n input0 L\\n output0 L_cast</title>\n<g id=\"a_node34\"><a xlink:href=\"javascript:alert('')\" xlink:title=\"Cast11/Cast (op#11)\\n input0 L\\n output0 L_cast\">\n<ellipse fill=\"#ffff00\" stroke=\"#ffff00\" cx=\"1994.8528\" cy=\"-1546.6078\" rx=\"94.5053\" ry=\"37.4533\"/>\n<text text-anchor=\"middle\" x=\"1994.8528\" y=\"-1557.9078\" font-family=\"Times,serif\" font-size=\"14.00\" fill=\"#000000\">Cast11/Cast (op#11)</text>\n<text text-anchor=\"middle\" x=\"1994.8528\" y=\"-1542.9078\" font-family=\"Times,serif\" font-size=\"14.00\" fill=\"#000000\"> input0 L</text>\n<text text-anchor=\"middle\" x=\"1994.8528\" y=\"-1527.9078\" font-family=\"Times,serif\" font-size=\"14.00\" fill=\"#000000\"> output0 L_cast</text>\n</a>\n</g>\n</g>\n<!-- L_cast0 -->\n<g id=\"node36\" class=\"node\">\n<title>L_cast0</title>\n<polygon fill=\"none\" stroke=\"#000000\" points=\"1936.83,-1447.6753 1936.83,-1462.587 1914.5835,-1473.1312 1883.1221,-1473.1312 1860.8756,-1462.587 1860.8756,-1447.6753 1883.1221,-1437.1312 1914.5835,-1437.1312 1936.83,-1447.6753\"/>\n<text text-anchor=\"middle\" x=\"1898.8528\" y=\"-1451.4312\" font-family=\"Times,serif\" font-size=\"14.00\" fill=\"#000000\">L_cast</text>\n</g>\n<!-- Cast11/Cast (op#11)\\n input0 L\\n output0 L_cast&#45;&gt;L_cast0 -->\n<g id=\"edge24\" class=\"edge\">\n<title>Cast11/Cast (op#11)\\n input0 L\\n output0 L_cast&#45;&gt;L_cast0</title>\n<path fill=\"none\" stroke=\"#000000\" d=\"M1958.2855,-1511.7635C1946.8584,-1500.8748 1934.5135,-1489.1116 1924.0512,-1479.1423\"/>\n<polygon fill=\"#000000\" stroke=\"#000000\" points=\"1926.4599,-1476.6029 1916.8059,-1472.2383 1921.631,-1481.6706 1926.4599,-1476.6029\"/>\n</g>\n<!-- L0 -->\n<g id=\"node35\" class=\"node\">\n<title>L0</title>\n<polygon fill=\"none\" stroke=\"#000000\" points=\"2021.8528,-1630.6286 2021.8528,-1645.5403 2006.0366,-1656.0845 1983.669,-1656.0845 1967.8528,-1645.5403 1967.8528,-1630.6286 1983.669,-1620.0845 2006.0366,-1620.0845 2021.8528,-1630.6286\"/>\n<text text-anchor=\"middle\" x=\"1994.8528\" y=\"-1634.3845\" font-family=\"Times,serif\" font-size=\"14.00\" fill=\"#000000\">L</text>\n</g>\n<!-- L0&#45;&gt;Cast11/Cast (op#11)\\n input0 L\\n output0 L_cast -->\n<g id=\"edge23\" class=\"edge\">\n<title>L0&#45;&gt;Cast11/Cast (op#11)\\n input0 L\\n output0 L_cast</title>\n<path fill=\"none\" stroke=\"#000000\" d=\"M1994.8528,-1620.0116C1994.8528,-1612.5968 1994.8528,-1603.628 1994.8528,-1594.5435\"/>\n<polygon fill=\"#000000\" stroke=\"#000000\" points=\"1998.3529,-1594.3141 1994.8528,-1584.3141 1991.3529,-1594.3141 1998.3529,-1594.3141\"/>\n</g>\n<!-- L_cast0&#45;&gt;Concat/Concat (op#15)\\n input0 A_cast\\n input1 B_cast\\n input2 C_cast\\n input3 D_cast\\n input4 E_cast\\n input5 F_cast\\n input6 G_cast\\n input7 H_cast\\n input8 I_cast\\n input9 J_cast\\n input10 K_cast\\n input11 L_cast\\n input12 M_cast\\n input13 N_cast\\n input14 O_cast\\n output0 merged_columns -->\n<g id=\"edge42\" class=\"edge\">\n<title>L_cast0&#45;&gt;Concat/Concat (op#15)\\n input0 A_cast\\n input1 B_cast\\n input2 C_cast\\n input3 D_cast\\n input4 E_cast\\n input5 F_cast\\n input6 G_cast\\n input7 H_cast\\n input8 I_cast\\n input9 J_cast\\n input10 K_cast\\n input11 L_cast\\n input12 M_cast\\n input13 N_cast\\n input14 O_cast\\n output0 merged_columns</title>\n<path fill=\"none\" stroke=\"#000000\" d=\"M1872.0782,-1442.2294C1807.5931,-1411.1562 1640.3735,-1330.5789 1523.5715,-1274.296\"/>\n<polygon fill=\"#000000\" stroke=\"#000000\" points=\"1525.0761,-1271.1359 1514.5481,-1269.9479 1522.0374,-1277.442 1525.0761,-1271.1359\"/>\n</g>\n<!-- Cast12/Cast (op#12)\\n input0 M\\n output0 M_cast -->\n<g id=\"node37\" class=\"node\">\n<title>Cast12/Cast (op#12)\\n input0 M\\n output0 M_cast</title>\n<g id=\"a_node37\"><a xlink:href=\"javascript:alert('')\" xlink:title=\"Cast12/Cast (op#12)\\n input0 M\\n output0 M_cast\">\n<ellipse fill=\"#ffff00\" stroke=\"#ffff00\" cx=\"2202.8528\" cy=\"-1546.6078\" rx=\"95.4188\" ry=\"37.4533\"/>\n<text text-anchor=\"middle\" x=\"2202.8528\" y=\"-1557.9078\" font-family=\"Times,serif\" font-size=\"14.00\" fill=\"#000000\">Cast12/Cast (op#12)</text>\n<text text-anchor=\"middle\" x=\"2202.8528\" y=\"-1542.9078\" font-family=\"Times,serif\" font-size=\"14.00\" fill=\"#000000\"> input0 M</text>\n<text text-anchor=\"middle\" x=\"2202.8528\" y=\"-1527.9078\" font-family=\"Times,serif\" font-size=\"14.00\" fill=\"#000000\"> output0 M_cast</text>\n</a>\n</g>\n</g>\n<!-- M_cast0 -->\n<g id=\"node39\" class=\"node\">\n<title>M_cast0</title>\n<polygon fill=\"none\" stroke=\"#000000\" points=\"2139.4589,-1447.6753 2139.4589,-1462.587 2115.6724,-1473.1312 2082.0332,-1473.1312 2058.2467,-1462.587 2058.2467,-1447.6753 2082.0332,-1437.1312 2115.6724,-1437.1312 2139.4589,-1447.6753\"/>\n<text text-anchor=\"middle\" x=\"2098.8528\" y=\"-1451.4312\" font-family=\"Times,serif\" font-size=\"14.00\" fill=\"#000000\">M_cast</text>\n</g>\n<!-- Cast12/Cast (op#12)\\n input0 M\\n output0 M_cast&#45;&gt;M_cast0 -->\n<g id=\"edge26\" class=\"edge\">\n<title>Cast12/Cast (op#12)\\n input0 M\\n output0 M_cast&#45;&gt;M_cast0</title>\n<path fill=\"none\" stroke=\"#000000\" d=\"M2163.8312,-1512.285C2151.1869,-1501.1634 2137.449,-1489.0797 2125.8759,-1478.9002\"/>\n<polygon fill=\"#000000\" stroke=\"#000000\" points=\"2128.0699,-1476.1687 2118.2496,-1472.1922 2123.4467,-1481.4248 2128.0699,-1476.1687\"/>\n</g>\n<!-- M0 -->\n<g id=\"node38\" class=\"node\">\n<title>M0</title>\n<polygon fill=\"none\" stroke=\"#000000\" points=\"2229.8528,-1630.6286 2229.8528,-1645.5403 2214.0366,-1656.0845 2191.669,-1656.0845 2175.8528,-1645.5403 2175.8528,-1630.6286 2191.669,-1620.0845 2214.0366,-1620.0845 2229.8528,-1630.6286\"/>\n<text text-anchor=\"middle\" x=\"2202.8528\" y=\"-1634.3845\" font-family=\"Times,serif\" font-size=\"14.00\" fill=\"#000000\">M</text>\n</g>\n<!-- M0&#45;&gt;Cast12/Cast (op#12)\\n input0 M\\n output0 M_cast -->\n<g id=\"edge25\" class=\"edge\">\n<title>M0&#45;&gt;Cast12/Cast (op#12)\\n input0 M\\n output0 M_cast</title>\n<path fill=\"none\" stroke=\"#000000\" d=\"M2202.8528,-1620.0116C2202.8528,-1612.5968 2202.8528,-1603.628 2202.8528,-1594.5435\"/>\n<polygon fill=\"#000000\" stroke=\"#000000\" points=\"2206.3529,-1594.3141 2202.8528,-1584.3141 2199.3529,-1594.3141 2206.3529,-1594.3141\"/>\n</g>\n<!-- M_cast0&#45;&gt;Concat/Concat (op#15)\\n input0 A_cast\\n input1 B_cast\\n input2 C_cast\\n input3 D_cast\\n input4 E_cast\\n input5 F_cast\\n input6 G_cast\\n input7 H_cast\\n input8 I_cast\\n input9 J_cast\\n input10 K_cast\\n input11 L_cast\\n input12 M_cast\\n input13 N_cast\\n input14 O_cast\\n output0 merged_columns -->\n<g id=\"edge43\" class=\"edge\">\n<title>M_cast0&#45;&gt;Concat/Concat (op#15)\\n input0 A_cast\\n input1 B_cast\\n input2 C_cast\\n input3 D_cast\\n input4 E_cast\\n input5 F_cast\\n input6 G_cast\\n input7 H_cast\\n input8 I_cast\\n input9 J_cast\\n input10 K_cast\\n input11 L_cast\\n input12 M_cast\\n input13 N_cast\\n input14 O_cast\\n output0 merged_columns</title>\n<path fill=\"none\" stroke=\"#000000\" d=\"M2066.123,-1443.8788C1971.121,-1411.2176 1691.6247,-1315.1281 1526.6841,-1258.4223\"/>\n<polygon fill=\"#000000\" stroke=\"#000000\" points=\"1527.5605,-1255.0226 1516.9658,-1255.0812 1525.2846,-1261.6423 1527.5605,-1255.0226\"/>\n</g>\n<!-- Cast13/Cast (op#13)\\n input0 N\\n output0 N_cast -->\n<g id=\"node40\" class=\"node\">\n<title>Cast13/Cast (op#13)\\n input0 N\\n output0 N_cast</title>\n<g id=\"a_node40\"><a xlink:href=\"javascript:alert('')\" xlink:title=\"Cast13/Cast (op#13)\\n input0 N\\n output0 N_cast\">\n<ellipse fill=\"#ffff00\" stroke=\"#ffff00\" cx=\"2411.8528\" cy=\"-1546.6078\" rx=\"95.4188\" ry=\"37.4533\"/>\n<text text-anchor=\"middle\" x=\"2411.8528\" y=\"-1557.9078\" font-family=\"Times,serif\" font-size=\"14.00\" fill=\"#000000\">Cast13/Cast (op#13)</text>\n<text text-anchor=\"middle\" x=\"2411.8528\" y=\"-1542.9078\" font-family=\"Times,serif\" font-size=\"14.00\" fill=\"#000000\"> input0 N</text>\n<text text-anchor=\"middle\" x=\"2411.8528\" y=\"-1527.9078\" font-family=\"Times,serif\" font-size=\"14.00\" fill=\"#000000\"> output0 N_cast</text>\n</a>\n</g>\n</g>\n<!-- N_cast0 -->\n<g id=\"node42\" class=\"node\">\n<title>N_cast0</title>\n<polygon fill=\"none\" stroke=\"#000000\" points=\"2343.1443,-1447.6753 2343.1443,-1462.587 2320.1279,-1473.1312 2287.5778,-1473.1312 2264.5614,-1462.587 2264.5614,-1447.6753 2287.5778,-1437.1312 2320.1279,-1437.1312 2343.1443,-1447.6753\"/>\n<text text-anchor=\"middle\" x=\"2303.8528\" y=\"-1451.4312\" font-family=\"Times,serif\" font-size=\"14.00\" fill=\"#000000\">N_cast</text>\n</g>\n<!-- Cast13/Cast (op#13)\\n input0 N\\n output0 N_cast&#45;&gt;N_cast0 -->\n<g id=\"edge28\" class=\"edge\">\n<title>Cast13/Cast (op#13)\\n input0 N\\n output0 N_cast&#45;&gt;N_cast0</title>\n<path fill=\"none\" stroke=\"#000000\" d=\"M2371.6376,-1512.5453C2358.1578,-1501.1279 2343.4499,-1488.6701 2331.1899,-1478.2859\"/>\n<polygon fill=\"#000000\" stroke=\"#000000\" points=\"2333.4172,-1475.5856 2323.5243,-1471.7931 2328.8929,-1480.9271 2333.4172,-1475.5856\"/>\n</g>\n<!-- N0 -->\n<g id=\"node41\" class=\"node\">\n<title>N0</title>\n<polygon fill=\"none\" stroke=\"#000000\" points=\"2438.8528,-1630.6286 2438.8528,-1645.5403 2423.0366,-1656.0845 2400.669,-1656.0845 2384.8528,-1645.5403 2384.8528,-1630.6286 2400.669,-1620.0845 2423.0366,-1620.0845 2438.8528,-1630.6286\"/>\n<text text-anchor=\"middle\" x=\"2411.8528\" y=\"-1634.3845\" font-family=\"Times,serif\" font-size=\"14.00\" fill=\"#000000\">N</text>\n</g>\n<!-- N0&#45;&gt;Cast13/Cast (op#13)\\n input0 N\\n output0 N_cast -->\n<g id=\"edge27\" class=\"edge\">\n<title>N0&#45;&gt;Cast13/Cast (op#13)\\n input0 N\\n output0 N_cast</title>\n<path fill=\"none\" stroke=\"#000000\" d=\"M2411.8528,-1620.0116C2411.8528,-1612.5968 2411.8528,-1603.628 2411.8528,-1594.5435\"/>\n<polygon fill=\"#000000\" stroke=\"#000000\" points=\"2415.3529,-1594.3141 2411.8528,-1584.3141 2408.3529,-1594.3141 2415.3529,-1594.3141\"/>\n</g>\n<!-- N_cast0&#45;&gt;Concat/Concat (op#15)\\n input0 A_cast\\n input1 B_cast\\n input2 C_cast\\n input3 D_cast\\n input4 E_cast\\n input5 F_cast\\n input6 G_cast\\n input7 H_cast\\n input8 I_cast\\n input9 J_cast\\n input10 K_cast\\n input11 L_cast\\n input12 M_cast\\n input13 N_cast\\n input14 O_cast\\n output0 merged_columns -->\n<g id=\"edge44\" class=\"edge\">\n<title>N_cast0&#45;&gt;Concat/Concat (op#15)\\n input0 A_cast\\n input1 B_cast\\n input2 C_cast\\n input3 D_cast\\n input4 E_cast\\n input5 F_cast\\n input6 G_cast\\n input7 H_cast\\n input8 I_cast\\n input9 J_cast\\n input10 K_cast\\n input11 L_cast\\n input12 M_cast\\n input13 N_cast\\n input14 O_cast\\n output0 merged_columns</title>\n<path fill=\"none\" stroke=\"#000000\" d=\"M2268.4541,-1445.7241C2146.24,-1413.2461 1738.0322,-1304.7663 1528.0352,-1248.9604\"/>\n<polygon fill=\"#000000\" stroke=\"#000000\" points=\"1528.7506,-1245.5291 1518.1871,-1246.3433 1526.9528,-1252.2943 1528.7506,-1245.5291\"/>\n</g>\n<!-- Cast14/Cast (op#14)\\n input0 O\\n output0 O_cast -->\n<g id=\"node43\" class=\"node\">\n<title>Cast14/Cast (op#14)\\n input0 O\\n output0 O_cast</title>\n<g id=\"a_node43\"><a xlink:href=\"javascript:alert('')\" xlink:title=\"Cast14/Cast (op#14)\\n input0 O\\n output0 O_cast\">\n<ellipse fill=\"#ffff00\" stroke=\"#ffff00\" cx=\"2620.8528\" cy=\"-1546.6078\" rx=\"95.4188\" ry=\"37.4533\"/>\n<text text-anchor=\"middle\" x=\"2620.8528\" y=\"-1557.9078\" font-family=\"Times,serif\" font-size=\"14.00\" fill=\"#000000\">Cast14/Cast (op#14)</text>\n<text text-anchor=\"middle\" x=\"2620.8528\" y=\"-1542.9078\" font-family=\"Times,serif\" font-size=\"14.00\" fill=\"#000000\"> input0 O</text>\n<text text-anchor=\"middle\" x=\"2620.8528\" y=\"-1527.9078\" font-family=\"Times,serif\" font-size=\"14.00\" fill=\"#000000\"> output0 O_cast</text>\n</a>\n</g>\n</g>\n<!-- O_cast0 -->\n<g id=\"node45\" class=\"node\">\n<title>O_cast0</title>\n<polygon fill=\"none\" stroke=\"#000000\" points=\"2550.1443,-1447.6753 2550.1443,-1462.587 2527.1279,-1473.1312 2494.5778,-1473.1312 2471.5614,-1462.587 2471.5614,-1447.6753 2494.5778,-1437.1312 2527.1279,-1437.1312 2550.1443,-1447.6753\"/>\n<text text-anchor=\"middle\" x=\"2510.8528\" y=\"-1451.4312\" font-family=\"Times,serif\" font-size=\"14.00\" fill=\"#000000\">O_cast</text>\n</g>\n<!-- Cast14/Cast (op#14)\\n input0 O\\n output0 O_cast&#45;&gt;O_cast0 -->\n<g id=\"edge30\" class=\"edge\">\n<title>Cast14/Cast (op#14)\\n input0 O\\n output0 O_cast&#45;&gt;O_cast0</title>\n<path fill=\"none\" stroke=\"#000000\" d=\"M2579.8929,-1512.5453C2566.1635,-1501.1279 2551.1832,-1488.6701 2538.6961,-1478.2859\"/>\n<polygon fill=\"#000000\" stroke=\"#000000\" points=\"2540.8153,-1475.496 2530.8886,-1471.7931 2536.3395,-1480.8782 2540.8153,-1475.496\"/>\n</g>\n<!-- O0 -->\n<g id=\"node44\" class=\"node\">\n<title>O0</title>\n<polygon fill=\"none\" stroke=\"#000000\" points=\"2647.8528,-1630.6286 2647.8528,-1645.5403 2632.0366,-1656.0845 2609.669,-1656.0845 2593.8528,-1645.5403 2593.8528,-1630.6286 2609.669,-1620.0845 2632.0366,-1620.0845 2647.8528,-1630.6286\"/>\n<text text-anchor=\"middle\" x=\"2620.8528\" y=\"-1634.3845\" font-family=\"Times,serif\" font-size=\"14.00\" fill=\"#000000\">O</text>\n</g>\n<!-- O0&#45;&gt;Cast14/Cast (op#14)\\n input0 O\\n output0 O_cast -->\n<g id=\"edge29\" class=\"edge\">\n<title>O0&#45;&gt;Cast14/Cast (op#14)\\n input0 O\\n output0 O_cast</title>\n<path fill=\"none\" stroke=\"#000000\" d=\"M2620.8528,-1620.0116C2620.8528,-1612.5968 2620.8528,-1603.628 2620.8528,-1594.5435\"/>\n<polygon fill=\"#000000\" stroke=\"#000000\" points=\"2624.3529,-1594.3141 2620.8528,-1584.3141 2617.3529,-1594.3141 2624.3529,-1594.3141\"/>\n</g>\n<!-- O_cast0&#45;&gt;Concat/Concat (op#15)\\n input0 A_cast\\n input1 B_cast\\n input2 C_cast\\n input3 D_cast\\n input4 E_cast\\n input5 F_cast\\n input6 G_cast\\n input7 H_cast\\n input8 I_cast\\n input9 J_cast\\n input10 K_cast\\n input11 L_cast\\n input12 M_cast\\n input13 N_cast\\n input14 O_cast\\n output0 merged_columns -->\n<g id=\"edge45\" class=\"edge\">\n<title>O_cast0&#45;&gt;Concat/Concat (op#15)\\n input0 A_cast\\n input1 B_cast\\n input2 C_cast\\n input3 D_cast\\n input4 E_cast\\n input5 F_cast\\n input6 G_cast\\n input7 H_cast\\n input8 I_cast\\n input9 J_cast\\n input10 K_cast\\n input11 L_cast\\n input12 M_cast\\n input13 N_cast\\n input14 O_cast\\n output0 merged_columns</title>\n<path fill=\"none\" stroke=\"#000000\" d=\"M2472.9652,-1446.9403C2324.6718,-1414.881 1779.4912,-1297.0193 1528.6678,-1242.7942\"/>\n<polygon fill=\"#000000\" stroke=\"#000000\" points=\"1529.2881,-1239.3475 1518.7743,-1240.6553 1527.8089,-1246.1895 1529.2881,-1239.3475\"/>\n</g>\n<!-- merged_columns0 -->\n<g id=\"node47\" class=\"node\">\n<title>merged_columns0</title>\n<polygon fill=\"none\" stroke=\"#000000\" points=\"1482.5632,-967.7372 1482.5632,-982.6488 1434.6984,-993.193 1367.0073,-993.193 1319.1424,-982.6488 1319.1424,-967.7372 1367.0073,-957.193 1434.6984,-957.193 1482.5632,-967.7372\"/>\n<text text-anchor=\"middle\" x=\"1400.8528\" y=\"-971.493\" font-family=\"Times,serif\" font-size=\"14.00\" fill=\"#000000\">merged_columns</text>\n</g>\n<!-- Concat/Concat (op#15)\\n input0 A_cast\\n input1 B_cast\\n input2 C_cast\\n input3 D_cast\\n input4 E_cast\\n input5 F_cast\\n input6 G_cast\\n input7 H_cast\\n input8 I_cast\\n input9 J_cast\\n input10 K_cast\\n input11 L_cast\\n input12 M_cast\\n input13 N_cast\\n input14 O_cast\\n output0 merged_columns&#45;&gt;merged_columns0 -->\n<g id=\"edge46\" class=\"edge\">\n<title>Concat/Concat (op#15)\\n input0 A_cast\\n input1 B_cast\\n input2 C_cast\\n input3 D_cast\\n input4 E_cast\\n input5 F_cast\\n input6 G_cast\\n input7 H_cast\\n input8 I_cast\\n input9 J_cast\\n input10 K_cast\\n input11 L_cast\\n input12 M_cast\\n input13 N_cast\\n input14 O_cast\\n output0 merged_columns&#45;&gt;merged_columns0</title>\n<path fill=\"none\" stroke=\"#000000\" d=\"M1400.8528,-1029.0467C1400.8528,-1019.685 1400.8528,-1011.1044 1400.8528,-1003.6755\"/>\n<polygon fill=\"#000000\" stroke=\"#000000\" points=\"1404.3529,-1003.6586 1400.8528,-993.6586 1397.3529,-1003.6587 1404.3529,-1003.6586\"/>\n</g>\n<!-- Imputer/Imputer (op#16)\\n input0 merged_columns\\n output0 variable -->\n<g id=\"node48\" class=\"node\">\n<title>Imputer/Imputer (op#16)\\n input0 merged_columns\\n output0 variable</title>\n<g id=\"a_node48\"><a xlink:href=\"javascript:alert('')\" xlink:title=\"Imputer/Imputer (op#16)\\n input0 merged_columns\\n output0 variable\">\n<ellipse fill=\"#ffff00\" stroke=\"#ffff00\" cx=\"1400.8528\" cy=\"-883.7163\" rx=\"113.6886\" ry=\"37.4533\"/>\n<text text-anchor=\"middle\" x=\"1400.8528\" y=\"-895.0163\" font-family=\"Times,serif\" font-size=\"14.00\" fill=\"#000000\">Imputer/Imputer (op#16)</text>\n<text text-anchor=\"middle\" x=\"1400.8528\" y=\"-880.0163\" font-family=\"Times,serif\" font-size=\"14.00\" fill=\"#000000\"> input0 merged_columns</text>\n<text text-anchor=\"middle\" x=\"1400.8528\" y=\"-865.0163\" font-family=\"Times,serif\" font-size=\"14.00\" fill=\"#000000\"> output0 variable</text>\n</a>\n</g>\n</g>\n<!-- merged_columns0&#45;&gt;Imputer/Imputer (op#16)\\n input0 merged_columns\\n output0 variable -->\n<g id=\"edge47\" class=\"edge\">\n<title>merged_columns0&#45;&gt;Imputer/Imputer (op#16)\\n input0 merged_columns\\n output0 variable</title>\n<path fill=\"none\" stroke=\"#000000\" d=\"M1400.8528,-957.1202C1400.8528,-949.7053 1400.8528,-940.7366 1400.8528,-931.652\"/>\n<polygon fill=\"#000000\" stroke=\"#000000\" points=\"1404.3529,-931.4226 1400.8528,-921.4226 1397.3529,-931.4227 1404.3529,-931.4226\"/>\n</g>\n<!-- variable0 -->\n<g id=\"node49\" class=\"node\">\n<title>variable0</title>\n<polygon fill=\"none\" stroke=\"#000000\" points=\"1444.5862,-784.7838 1444.5862,-799.6955 1418.9678,-810.2397 1382.7379,-810.2397 1357.1194,-799.6955 1357.1194,-784.7838 1382.7379,-774.2397 1418.9678,-774.2397 1444.5862,-784.7838\"/>\n<text text-anchor=\"middle\" x=\"1400.8528\" y=\"-788.5397\" font-family=\"Times,serif\" font-size=\"14.00\" fill=\"#000000\">variable</text>\n</g>\n<!-- Imputer/Imputer (op#16)\\n input0 merged_columns\\n output0 variable&#45;&gt;variable0 -->\n<g id=\"edge48\" class=\"edge\">\n<title>Imputer/Imputer (op#16)\\n input0 merged_columns\\n output0 variable&#45;&gt;variable0</title>\n<path fill=\"none\" stroke=\"#000000\" d=\"M1400.8528,-845.9811C1400.8528,-837.5899 1400.8528,-828.8278 1400.8528,-820.8723\"/>\n<polygon fill=\"#000000\" stroke=\"#000000\" points=\"1404.3529,-820.6344 1400.8528,-810.6344 1397.3529,-820.6345 1404.3529,-820.6344\"/>\n</g>\n<!-- Scaler/Scaler (op#17)\\n input0 variable\\n output0 variable1 -->\n<g id=\"node50\" class=\"node\">\n<title>Scaler/Scaler (op#17)\\n input0 variable\\n output0 variable1</title>\n<g id=\"a_node50\"><a xlink:href=\"javascript:alert('')\" xlink:title=\"Scaler/Scaler (op#17)\\n input0 variable\\n output0 variable1\">\n<ellipse fill=\"#ffff00\" stroke=\"#ffff00\" cx=\"1400.8528\" cy=\"-700.763\" rx=\"98.9899\" ry=\"37.4533\"/>\n<text text-anchor=\"middle\" x=\"1400.8528\" y=\"-712.063\" font-family=\"Times,serif\" font-size=\"14.00\" fill=\"#000000\">Scaler/Scaler (op#17)</text>\n<text text-anchor=\"middle\" x=\"1400.8528\" y=\"-697.063\" font-family=\"Times,serif\" font-size=\"14.00\" fill=\"#000000\"> input0 variable</text>\n<text text-anchor=\"middle\" x=\"1400.8528\" y=\"-682.063\" font-family=\"Times,serif\" font-size=\"14.00\" fill=\"#000000\"> output0 variable1</text>\n</a>\n</g>\n</g>\n<!-- variable0&#45;&gt;Scaler/Scaler (op#17)\\n input0 variable\\n output0 variable1 -->\n<g id=\"edge49\" class=\"edge\">\n<title>variable0&#45;&gt;Scaler/Scaler (op#17)\\n input0 variable\\n output0 variable1</title>\n<path fill=\"none\" stroke=\"#000000\" d=\"M1400.8528,-774.1668C1400.8528,-766.752 1400.8528,-757.7832 1400.8528,-748.6987\"/>\n<polygon fill=\"#000000\" stroke=\"#000000\" points=\"1404.3529,-748.4693 1400.8528,-738.4693 1397.3529,-748.4693 1404.3529,-748.4693\"/>\n</g>\n<!-- variable10 -->\n<g id=\"node51\" class=\"node\">\n<title>variable10</title>\n<polygon fill=\"none\" stroke=\"#000000\" points=\"1449.4348,-601.8305 1449.4348,-616.7422 1420.9761,-627.2864 1380.7295,-627.2864 1352.2708,-616.7422 1352.2708,-601.8305 1380.7295,-591.2864 1420.9761,-591.2864 1449.4348,-601.8305\"/>\n<text text-anchor=\"middle\" x=\"1400.8528\" y=\"-605.5864\" font-family=\"Times,serif\" font-size=\"14.00\" fill=\"#000000\">variable1</text>\n</g>\n<!-- Scaler/Scaler (op#17)\\n input0 variable\\n output0 variable1&#45;&gt;variable10 -->\n<g id=\"edge50\" class=\"edge\">\n<title>Scaler/Scaler (op#17)\\n input0 variable\\n output0 variable1&#45;&gt;variable10</title>\n<path fill=\"none\" stroke=\"#000000\" d=\"M1400.8528,-663.0278C1400.8528,-654.6366 1400.8528,-645.8745 1400.8528,-637.9189\"/>\n<polygon fill=\"#000000\" stroke=\"#000000\" points=\"1404.3529,-637.6811 1400.8528,-627.6811 1397.3529,-637.6812 1404.3529,-637.6811\"/>\n</g>\n<!-- ArrayFeatureExtractor/ArrayFeatureExtractor (op#18)\\n input0 variable1\\n input1 column_indices\\n output0 variable2 -->\n<g id=\"node52\" class=\"node\">\n<title>ArrayFeatureExtractor/ArrayFeatureExtractor (op#18)\\n input0 variable1\\n input1 column_indices\\n output0 variable2</title>\n<g id=\"a_node52\"><a xlink:href=\"javascript:alert('')\" xlink:title=\"ArrayFeatureExtractor/ArrayFeatureExtractor (op#18)\\n input0 variable1\\n input1 column_indices\\n output0 variable2\">\n<ellipse fill=\"#ffff00\" stroke=\"#ffff00\" cx=\"1329.8528\" cy=\"-507.2031\" rx=\"230.5336\" ry=\"48.1667\"/>\n<text text-anchor=\"middle\" x=\"1329.8528\" y=\"-526.0031\" font-family=\"Times,serif\" font-size=\"14.00\" fill=\"#000000\">ArrayFeatureExtractor/ArrayFeatureExtractor (op#18)</text>\n<text text-anchor=\"middle\" x=\"1329.8528\" y=\"-511.0031\" font-family=\"Times,serif\" font-size=\"14.00\" fill=\"#000000\"> input0 variable1</text>\n<text text-anchor=\"middle\" x=\"1329.8528\" y=\"-496.0031\" font-family=\"Times,serif\" font-size=\"14.00\" fill=\"#000000\"> input1 column_indices</text>\n<text text-anchor=\"middle\" x=\"1329.8528\" y=\"-481.0031\" font-family=\"Times,serif\" font-size=\"14.00\" fill=\"#000000\"> output0 variable2</text>\n</a>\n</g>\n</g>\n<!-- variable10&#45;&gt;ArrayFeatureExtractor/ArrayFeatureExtractor (op#18)\\n input0 variable1\\n input1 column_indices\\n output0 variable2 -->\n<g id=\"edge51\" class=\"edge\">\n<title>variable10&#45;&gt;ArrayFeatureExtractor/ArrayFeatureExtractor (op#18)\\n input0 variable1\\n input1 column_indices\\n output0 variable2</title>\n<path fill=\"none\" stroke=\"#000000\" d=\"M1388.1594,-591.0359C1382.675,-583.1504 1375.9311,-573.4541 1368.9998,-563.4884\"/>\n<polygon fill=\"#000000\" stroke=\"#000000\" points=\"1371.7402,-561.2987 1363.157,-555.0876 1365.9935,-565.2957 1371.7402,-561.2987\"/>\n</g>\n<!-- variable20 -->\n<g id=\"node54\" class=\"node\">\n<title>variable20</title>\n<polygon fill=\"none\" stroke=\"#000000\" points=\"1378.4348,-397.664 1378.4348,-412.5757 1349.9761,-423.1198 1309.7295,-423.1198 1281.2708,-412.5757 1281.2708,-397.664 1309.7295,-387.1198 1349.9761,-387.1198 1378.4348,-397.664\"/>\n<text text-anchor=\"middle\" x=\"1329.8528\" y=\"-401.4198\" font-family=\"Times,serif\" font-size=\"14.00\" fill=\"#000000\">variable2</text>\n</g>\n<!-- ArrayFeatureExtractor/ArrayFeatureExtractor (op#18)\\n input0 variable1\\n input1 column_indices\\n output0 variable2&#45;&gt;variable20 -->\n<g id=\"edge53\" class=\"edge\">\n<title>ArrayFeatureExtractor/ArrayFeatureExtractor (op#18)\\n input0 variable1\\n input1 column_indices\\n output0 variable2&#45;&gt;variable20</title>\n<path fill=\"none\" stroke=\"#000000\" d=\"M1329.8528,-458.852C1329.8528,-450.2072 1329.8528,-441.4592 1329.8528,-433.6036\"/>\n<polygon fill=\"#000000\" stroke=\"#000000\" points=\"1333.3529,-433.538 1329.8528,-423.538 1326.3529,-433.538 1333.3529,-433.538\"/>\n</g>\n<!-- column_indices0 -->\n<g id=\"node53\" class=\"node\">\n<title>column_indices0</title>\n<polygon fill=\"none\" stroke=\"#000000\" points=\"1333.9009,-601.8305 1333.9009,-616.7422 1289.9387,-627.2864 1227.7669,-627.2864 1183.8047,-616.7422 1183.8047,-601.8305 1227.7669,-591.2864 1289.9387,-591.2864 1333.9009,-601.8305\"/>\n<text text-anchor=\"middle\" x=\"1258.8528\" y=\"-605.5864\" font-family=\"Times,serif\" font-size=\"14.00\" fill=\"#000000\">column_indices</text>\n</g>\n<!-- column_indices0&#45;&gt;ArrayFeatureExtractor/ArrayFeatureExtractor (op#18)\\n input0 variable1\\n input1 column_indices\\n output0 variable2 -->\n<g id=\"edge52\" class=\"edge\">\n<title>column_indices0&#45;&gt;ArrayFeatureExtractor/ArrayFeatureExtractor (op#18)\\n input0 variable1\\n input1 column_indices\\n output0 variable2</title>\n<path fill=\"none\" stroke=\"#000000\" d=\"M1271.5462,-591.0359C1277.0306,-583.1504 1283.7745,-573.4541 1290.7058,-563.4884\"/>\n<polygon fill=\"#000000\" stroke=\"#000000\" points=\"1293.7121,-565.2957 1296.5486,-555.0876 1287.9654,-561.2987 1293.7121,-565.2957\"/>\n</g>\n<!-- TreeEnsembleClassifier/TreeEnsembleClassifier (op#19)\\n input0 variable2\\n output0 label\\n output1 probabilities -->\n<g id=\"node55\" class=\"node\">\n<title>TreeEnsembleClassifier/TreeEnsembleClassifier (op#19)\\n input0 variable2\\n output0 label\\n output1 probabilities</title>\n<g id=\"a_node55\"><a xlink:href=\"javascript:alert('')\" xlink:title=\"TreeEnsembleClassifier/TreeEnsembleClassifier (op#19)\\n input0 variable2\\n output0 label\\n output1 probabilities\">\n<ellipse fill=\"#ffff00\" stroke=\"#ffff00\" cx=\"1329.8528\" cy=\"-303.0366\" rx=\"239.0042\" ry=\"48.1667\"/>\n<text text-anchor=\"middle\" x=\"1329.8528\" y=\"-321.8366\" font-family=\"Times,serif\" font-size=\"14.00\" fill=\"#000000\">TreeEnsembleClassifier/TreeEnsembleClassifier (op#19)</text>\n<text text-anchor=\"middle\" x=\"1329.8528\" y=\"-306.8366\" font-family=\"Times,serif\" font-size=\"14.00\" fill=\"#000000\"> input0 variable2</text>\n<text text-anchor=\"middle\" x=\"1329.8528\" y=\"-291.8366\" font-family=\"Times,serif\" font-size=\"14.00\" fill=\"#000000\"> output0 label</text>\n<text text-anchor=\"middle\" x=\"1329.8528\" y=\"-276.8366\" font-family=\"Times,serif\" font-size=\"14.00\" fill=\"#000000\"> output1 probabilities</text>\n</a>\n</g>\n</g>\n<!-- variable20&#45;&gt;TreeEnsembleClassifier/TreeEnsembleClassifier (op#19)\\n input0 variable2\\n output0 label\\n output1 probabilities -->\n<g id=\"edge54\" class=\"edge\">\n<title>variable20&#45;&gt;TreeEnsembleClassifier/TreeEnsembleClassifier (op#19)\\n input0 variable2\\n output0 label\\n output1 probabilities</title>\n<path fill=\"none\" stroke=\"#000000\" d=\"M1329.8528,-386.8694C1329.8528,-379.5413 1329.8528,-370.6493 1329.8528,-361.4305\"/>\n<polygon fill=\"#000000\" stroke=\"#000000\" points=\"1333.3529,-361.3573 1329.8528,-351.3573 1326.3529,-361.3574 1333.3529,-361.3573\"/>\n</g>\n<!-- label0 -->\n<g id=\"node56\" class=\"node\">\n<title>label0</title>\n<polygon fill=\"none\" stroke=\"#000000\" points=\"1305.7602,-193.4975 1305.7602,-208.4092 1287.6551,-218.9533 1262.0505,-218.9533 1243.9454,-208.4092 1243.9454,-193.4975 1262.0505,-182.9533 1287.6551,-182.9533 1305.7602,-193.4975\"/>\n<text text-anchor=\"middle\" x=\"1274.8528\" y=\"-197.2533\" font-family=\"Times,serif\" font-size=\"14.00\" fill=\"#000000\">label</text>\n</g>\n<!-- TreeEnsembleClassifier/TreeEnsembleClassifier (op#19)\\n input0 variable2\\n output0 label\\n output1 probabilities&#45;&gt;label0 -->\n<g id=\"edge55\" class=\"edge\">\n<title>TreeEnsembleClassifier/TreeEnsembleClassifier (op#19)\\n input0 variable2\\n output0 label\\n output1 probabilities&#45;&gt;label0</title>\n<path fill=\"none\" stroke=\"#000000\" d=\"M1303.9633,-254.9841C1298.943,-245.666 1293.8508,-236.2146 1289.3591,-227.8778\"/>\n<polygon fill=\"#000000\" stroke=\"#000000\" points=\"1292.4033,-226.1489 1284.5788,-219.0054 1286.2408,-229.4691 1292.4033,-226.1489\"/>\n</g>\n<!-- probabilities0 -->\n<g id=\"node57\" class=\"node\">\n<title>probabilities0</title>\n<polygon fill=\"none\" stroke=\"#000000\" points=\"1479.2612,-193.4975 1479.2612,-208.4092 1443.289,-218.9533 1392.4166,-218.9533 1356.4444,-208.4092 1356.4444,-193.4975 1392.4166,-182.9533 1443.289,-182.9533 1479.2612,-193.4975\"/>\n<text text-anchor=\"middle\" x=\"1417.8528\" y=\"-197.2533\" font-family=\"Times,serif\" font-size=\"14.00\" fill=\"#000000\">probabilities</text>\n</g>\n<!-- TreeEnsembleClassifier/TreeEnsembleClassifier (op#19)\\n input0 variable2\\n output0 label\\n output1 probabilities&#45;&gt;probabilities0 -->\n<g id=\"edge56\" class=\"edge\">\n<title>TreeEnsembleClassifier/TreeEnsembleClassifier (op#19)\\n input0 variable2\\n output0 label\\n output1 probabilities&#45;&gt;probabilities0</title>\n<path fill=\"none\" stroke=\"#000000\" d=\"M1370.7613,-255.5812C1379.2837,-245.6949 1387.9615,-235.6284 1395.5074,-226.8749\"/>\n<polygon fill=\"#000000\" stroke=\"#000000\" points=\"1398.2038,-229.1074 1402.0821,-219.2479 1392.9018,-224.5369 1398.2038,-229.1074\"/>\n</g>\n<!-- Cast15/Cast (op#20)\\n input0 label\\n output0 output_label -->\n<g id=\"node58\" class=\"node\">\n<title>Cast15/Cast (op#20)\\n input0 label\\n output0 output_label</title>\n<g id=\"a_node58\"><a xlink:href=\"javascript:alert('')\" xlink:title=\"Cast15/Cast (op#20)\\n input0 label\\n output0 output_label\">\n<ellipse fill=\"#ffff00\" stroke=\"#ffff00\" cx=\"1208.8528\" cy=\"-109.4767\" rx=\"99.9045\" ry=\"37.4533\"/>\n<text text-anchor=\"middle\" x=\"1208.8528\" y=\"-120.7767\" font-family=\"Times,serif\" font-size=\"14.00\" fill=\"#000000\">Cast15/Cast (op#20)</text>\n<text text-anchor=\"middle\" x=\"1208.8528\" y=\"-105.7767\" font-family=\"Times,serif\" font-size=\"14.00\" fill=\"#000000\"> input0 label</text>\n<text text-anchor=\"middle\" x=\"1208.8528\" y=\"-90.7767\" font-family=\"Times,serif\" font-size=\"14.00\" fill=\"#000000\"> output0 output_label</text>\n</a>\n</g>\n</g>\n<!-- label0&#45;&gt;Cast15/Cast (op#20)\\n input0 label\\n output0 output_label -->\n<g id=\"edge57\" class=\"edge\">\n<title>label0&#45;&gt;Cast15/Cast (op#20)\\n input0 label\\n output0 output_label</title>\n<path fill=\"none\" stroke=\"#000000\" d=\"M1261.8133,-182.8805C1255.7662,-174.4991 1248.2866,-164.1323 1240.8731,-153.8571\"/>\n<polygon fill=\"#000000\" stroke=\"#000000\" points=\"1243.6598,-151.7375 1234.9703,-145.6758 1237.9831,-155.8333 1243.6598,-151.7375\"/>\n</g>\n<!-- ZipMap/ZipMap (op#21)\\n input0 probabilities\\n output0 output_probability -->\n<g id=\"node60\" class=\"node\">\n<title>ZipMap/ZipMap (op#21)\\n input0 probabilities\\n output0 output_probability</title>\n<g id=\"a_node60\"><a xlink:href=\"javascript:alert('')\" xlink:title=\"ZipMap/ZipMap (op#21)\\n input0 probabilities\\n output0 output_probability\">\n<ellipse fill=\"#ffff00\" stroke=\"#ffff00\" cx=\"1451.8528\" cy=\"-109.4767\" rx=\"125.316\" ry=\"37.4533\"/>\n<text text-anchor=\"middle\" x=\"1451.8528\" y=\"-120.7767\" font-family=\"Times,serif\" font-size=\"14.00\" fill=\"#000000\">ZipMap/ZipMap (op#21)</text>\n<text text-anchor=\"middle\" x=\"1451.8528\" y=\"-105.7767\" font-family=\"Times,serif\" font-size=\"14.00\" fill=\"#000000\"> input0 probabilities</text>\n<text text-anchor=\"middle\" x=\"1451.8528\" y=\"-90.7767\" font-family=\"Times,serif\" font-size=\"14.00\" fill=\"#000000\"> output0 output_probability</text>\n</a>\n</g>\n</g>\n<!-- probabilities0&#45;&gt;ZipMap/ZipMap (op#21)\\n input0 probabilities\\n output0 output_probability -->\n<g id=\"edge59\" class=\"edge\">\n<title>probabilities0&#45;&gt;ZipMap/ZipMap (op#21)\\n input0 probabilities\\n output0 output_probability</title>\n<path fill=\"none\" stroke=\"#000000\" d=\"M1424.5701,-182.8805C1427.444,-175.1483 1430.9459,-165.7265 1434.4698,-156.2456\"/>\n<polygon fill=\"#000000\" stroke=\"#000000\" points=\"1437.7752,-157.3982 1437.9785,-146.8053 1431.2138,-154.9594 1437.7752,-157.3982\"/>\n</g>\n<!-- output_label0 -->\n<g id=\"node59\" class=\"node\">\n<title>output_label0</title>\n<polygon fill=\"none\" stroke=\"#000000\" points=\"1271.5747,-10.5442 1271.5747,-25.4558 1234.8331,-36 1182.8726,-36 1146.131,-25.4558 1146.131,-10.5442 1182.8726,0 1234.8331,0 1271.5747,-10.5442\"/>\n<text text-anchor=\"middle\" x=\"1208.8528\" y=\"-14.3\" font-family=\"Times,serif\" font-size=\"14.00\" fill=\"#000000\">output_label</text>\n</g>\n<!-- Cast15/Cast (op#20)\\n input0 label\\n output0 output_label&#45;&gt;output_label0 -->\n<g id=\"edge58\" class=\"edge\">\n<title>Cast15/Cast (op#20)\\n input0 label\\n output0 output_label&#45;&gt;output_label0</title>\n<path fill=\"none\" stroke=\"#000000\" d=\"M1208.8528,-71.7415C1208.8528,-63.3502 1208.8528,-54.5881 1208.8528,-46.6326\"/>\n<polygon fill=\"#000000\" stroke=\"#000000\" points=\"1212.3529,-46.3947 1208.8528,-36.3948 1205.3529,-46.3948 1212.3529,-46.3947\"/>\n</g>\n<!-- output_probability0 -->\n<g id=\"node61\" class=\"node\">\n<title>output_probability0</title>\n<polygon fill=\"none\" stroke=\"#000000\" points=\"1539.726,-10.5442 1539.726,-25.4558 1488.2511,-36 1415.4546,-36 1363.9796,-25.4558 1363.9796,-10.5442 1415.4546,0 1488.2511,0 1539.726,-10.5442\"/>\n<text text-anchor=\"middle\" x=\"1451.8528\" y=\"-14.3\" font-family=\"Times,serif\" font-size=\"14.00\" fill=\"#000000\">output_probability</text>\n</g>\n<!-- ZipMap/ZipMap (op#21)\\n input0 probabilities\\n output0 output_probability&#45;&gt;output_probability0 -->\n<g id=\"edge60\" class=\"edge\">\n<title>ZipMap/ZipMap (op#21)\\n input0 probabilities\\n output0 output_probability&#45;&gt;output_probability0</title>\n<path fill=\"none\" stroke=\"#000000\" d=\"M1451.8528,-71.7415C1451.8528,-63.3502 1451.8528,-54.5881 1451.8528,-46.6326\"/>\n<polygon fill=\"#000000\" stroke=\"#000000\" points=\"1455.3529,-46.3947 1451.8528,-36.3948 1448.3529,-46.3948 1455.3529,-46.3947\"/>\n</g>\n</g>\n</svg>\n"
          },
          "metadata": {
            "tags": []
          },
          "execution_count": 36
        }
      ]
    },
    {
      "cell_type": "markdown",
      "metadata": {
        "id": "4lkpiHKf9GF3"
      },
      "source": [
        "# Conclusion:\n",
        "\n",
        "We built a Random forest model with tuning parameters are 'max_depth', 'n_estimators', 'criterion', 'random_state', 'max_features', 'max_leaf_nodes'.\n",
        "\n",
        "The pipeline was set up to pre-process the data from the file and impute(mean) its values and passed to the model built. The accuracy and f1 score of the model was calculated accordingly."
      ]
    },
    {
      "cell_type": "markdown",
      "metadata": {
        "id": "hNqKBSKt9h23"
      },
      "source": [
        "# Data Sources:\n",
        "\n",
        "The data file(data_public.csv.gz) was given on blackboard by Professor."
      ]
    },
    {
      "cell_type": "markdown",
      "metadata": {
        "id": "nZVSbqGQ-c28"
      },
      "source": [
        "# Source Code:\n",
        "I referred to some open sources for the random forest model building and parameter tuning from these links below:\n",
        "\n",
        "\n",
        "\n",
        "1. https://www.datacamp.com/community/tutorials/random-forests-classifier-python\n",
        "2. https://towardsdatascience.com/random-forest-in-python-24d0893d51c0\n",
        "3. https://chrisalbon.com/machine_learning/trees_and_forests/feature_selection_using_random_forest/\n",
        "\n",
        "\n",
        "\n",
        "\n",
        "\n",
        "\n"
      ]
    },
    {
      "cell_type": "markdown",
      "metadata": {
        "id": "SyyQ_JUoA4rq"
      },
      "source": [
        "# Bibliography:\n",
        "\n",
        "\n",
        "1. https://scikit-learn.org/stable/modules/generated/sklearn.pipeline.Pipeline.html\n",
        "2. https://scikit-learn.org/stable/modules/generated/sklearn.feature_selection.SelectFromModel.html\n",
        "3. https://scikit-learn.org/stable/modules/feature_selection.html\n",
        "4. https://scikit-learn.org/stable/modules/generated/sklearn.svm.LinearSVC.html#sklearn.svm.LinearSVC\n",
        "5. https://scikit-learn.org/stable/modules/generated/sklearn.ensemble.RandomForestClassifier.html\n",
        "6. https://scikit-learn.org/stable/modules/generated/sklearn.tree.DecisionTreeClassifier.html\n"
      ]
    },
    {
      "cell_type": "code",
      "metadata": {
        "id": "jucJKOc66Y_U"
      },
      "source": [
        ""
      ],
      "execution_count": null,
      "outputs": []
    }
  ]
}